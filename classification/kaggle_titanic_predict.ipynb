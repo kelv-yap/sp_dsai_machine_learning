{
 "cells": [
  {
   "cell_type": "markdown",
   "metadata": {},
   "source": [
    "# APPLIED MACHINE LEARNING ASSIGNMENT 1"
   ]
  },
  {
   "cell_type": "markdown",
   "metadata": {},
   "source": [
    "Lecturer's Name: Paul <br />\n",
    "Student Name: Yap Li Xen (Kelvin) <br />\n",
    "Student ID: P7414389 <br />\n",
    "Class: DSAI/2021"
   ]
  },
  {
   "cell_type": "markdown",
   "metadata": {},
   "source": [
    "# PART A: CLASSIFICATION (KAGGLE TITANIC)"
   ]
  },
  {
   "cell_type": "markdown",
   "metadata": {},
   "source": [
    "Data Preparation (Function)\n",
    "=======================\n",
    "* Data Cleaning\n",
    "* Data Transformation"
   ]
  },
  {
   "cell_type": "code",
   "execution_count": 1,
   "metadata": {},
   "outputs": [],
   "source": [
    "import pandas as pd\n",
    "import numpy as np\n",
    "from sklearn.preprocessing import OneHotEncoder\n",
    "\n",
    "def perform_data_preparation(df):\n",
    "    df = df.drop(['PassengerId', 'Name', 'Ticket', 'Cabin'], 1)\n",
    "\n",
    "    df['hasFamily'] = np.where((df['SibSp'] <= 0) & (df['Parch'] <= 0), 0, 1)\n",
    "    df = df.drop(['SibSp', 'Parch'], 1)\n",
    "    \n",
    "    df['Fare'] = df['Fare'].fillna(0)\n",
    "    fare_bins=[0,10,20,40,60,80,100,200,600]\n",
    "    fare_labels=[1,2,3,4,5,6,7,8]\n",
    "    df['Fare_Group'] = pd.cut(df['Fare'], bins=fare_bins, labels=fare_labels, right=False)\n",
    "    df = df.drop('Fare', 1)\n",
    "    \n",
    "    df['Age'] = df['Age'].fillna(-1)\n",
    "    age_bins=[-1,0,13,60,120]\n",
    "    age_labels=['Unknown','Children','Adult','Elderly']\n",
    "    df['Age_Group'] = pd.cut(df['Age'], bins=age_bins, labels=age_labels, right=False)\n",
    "    df = df.drop('Age', 1)\n",
    "    \n",
    "    ohe = OneHotEncoder()\n",
    "    df = df[df['Embarked'].notna()]\n",
    "    df['Embarked'] = ohe.fit_transform(df[\"Embarked\"].values.reshape(-1,1)).toarray()\n",
    "    df['Sex'] = ohe.fit_transform(df[\"Sex\"].values.reshape(-1,1)).toarray()\n",
    "    \n",
    "    df = pd.get_dummies(df)\n",
    "    return df"
   ]
  },
  {
   "cell_type": "markdown",
   "metadata": {},
   "source": [
    "Train Model (SVC)\n",
    "==============="
   ]
  },
  {
   "cell_type": "code",
   "execution_count": 2,
   "metadata": {},
   "outputs": [
    {
     "name": "stdout",
     "output_type": "stream",
     "text": [
      "<class 'pandas.core.frame.DataFrame'>\n",
      "RangeIndex: 891 entries, 0 to 890\n",
      "Data columns (total 12 columns):\n",
      " #   Column       Non-Null Count  Dtype  \n",
      "---  ------       --------------  -----  \n",
      " 0   PassengerId  891 non-null    int64  \n",
      " 1   Survived     891 non-null    int64  \n",
      " 2   Pclass       891 non-null    int64  \n",
      " 3   Name         891 non-null    object \n",
      " 4   Sex          891 non-null    object \n",
      " 5   Age          714 non-null    float64\n",
      " 6   SibSp        891 non-null    int64  \n",
      " 7   Parch        891 non-null    int64  \n",
      " 8   Ticket       891 non-null    object \n",
      " 9   Fare         891 non-null    float64\n",
      " 10  Cabin        204 non-null    object \n",
      " 11  Embarked     889 non-null    object \n",
      "dtypes: float64(2), int64(5), object(5)\n",
      "memory usage: 83.7+ KB\n"
     ]
    }
   ],
   "source": [
    "df_train = pd.read_csv('data/train.csv', sep=',')\n",
    "df_train.info()"
   ]
  },
  {
   "cell_type": "code",
   "execution_count": 3,
   "metadata": {},
   "outputs": [
    {
     "name": "stdout",
     "output_type": "stream",
     "text": [
      "<class 'pandas.core.frame.DataFrame'>\n",
      "Int64Index: 889 entries, 0 to 890\n",
      "Data columns (total 17 columns):\n",
      " #   Column              Non-Null Count  Dtype  \n",
      "---  ------              --------------  -----  \n",
      " 0   Survived            889 non-null    int64  \n",
      " 1   Pclass              889 non-null    int64  \n",
      " 2   Sex                 889 non-null    float64\n",
      " 3   Embarked            889 non-null    float64\n",
      " 4   hasFamily           889 non-null    int32  \n",
      " 5   Fare_Group_1        889 non-null    uint8  \n",
      " 6   Fare_Group_2        889 non-null    uint8  \n",
      " 7   Fare_Group_3        889 non-null    uint8  \n",
      " 8   Fare_Group_4        889 non-null    uint8  \n",
      " 9   Fare_Group_5        889 non-null    uint8  \n",
      " 10  Fare_Group_6        889 non-null    uint8  \n",
      " 11  Fare_Group_7        889 non-null    uint8  \n",
      " 12  Fare_Group_8        889 non-null    uint8  \n",
      " 13  Age_Group_Unknown   889 non-null    uint8  \n",
      " 14  Age_Group_Children  889 non-null    uint8  \n",
      " 15  Age_Group_Adult     889 non-null    uint8  \n",
      " 16  Age_Group_Elderly   889 non-null    uint8  \n",
      "dtypes: float64(2), int32(1), int64(2), uint8(12)\n",
      "memory usage: 48.6 KB\n"
     ]
    }
   ],
   "source": [
    "df_train = perform_data_preparation(df_train)\n",
    "df_train.info()"
   ]
  },
  {
   "cell_type": "code",
   "execution_count": 4,
   "metadata": {},
   "outputs": [],
   "source": [
    "from sklearn.model_selection import train_test_split\n",
    "X = df_train.drop('Survived', axis=1)\n",
    "y = df_train['Survived']\n",
    "\n",
    "X_train, X_test, y_train, y_test = train_test_split(X, y, test_size=0.2, random_state=42)"
   ]
  },
  {
   "cell_type": "code",
   "execution_count": 5,
   "metadata": {},
   "outputs": [
    {
     "name": "stdout",
     "output_type": "stream",
     "text": [
      "Training Data Score: 82.56%\n",
      "Test Data Score: 82.58%\n"
     ]
    }
   ],
   "source": [
    "from sklearn.svm import SVC\n",
    "\n",
    "model = SVC()\n",
    "model.fit(X_train, y_train)\n",
    "\n",
    "training_data_score = model.score(X_train, y_train)\n",
    "print(\"Training Data Score: {:.2f}%\".format(training_data_score*100))\n",
    "\n",
    "test_data_score = model.score(X_test, y_test)\n",
    "print(\"Test Data Score: {:.2f}%\".format(test_data_score*100))"
   ]
  },
  {
   "cell_type": "markdown",
   "metadata": {},
   "source": [
    "Kaggle Titanic Prediction \n",
    "====================="
   ]
  },
  {
   "cell_type": "code",
   "execution_count": 6,
   "metadata": {},
   "outputs": [
    {
     "name": "stdout",
     "output_type": "stream",
     "text": [
      "<class 'pandas.core.frame.DataFrame'>\n",
      "RangeIndex: 418 entries, 0 to 417\n",
      "Data columns (total 11 columns):\n",
      " #   Column       Non-Null Count  Dtype  \n",
      "---  ------       --------------  -----  \n",
      " 0   PassengerId  418 non-null    int64  \n",
      " 1   Pclass       418 non-null    int64  \n",
      " 2   Name         418 non-null    object \n",
      " 3   Sex          418 non-null    object \n",
      " 4   Age          332 non-null    float64\n",
      " 5   SibSp        418 non-null    int64  \n",
      " 6   Parch        418 non-null    int64  \n",
      " 7   Ticket       418 non-null    object \n",
      " 8   Fare         417 non-null    float64\n",
      " 9   Cabin        91 non-null     object \n",
      " 10  Embarked     418 non-null    object \n",
      "dtypes: float64(2), int64(4), object(5)\n",
      "memory usage: 36.0+ KB\n"
     ]
    }
   ],
   "source": [
    "df_kaggle = pd.read_csv('data/test.csv', sep=',')\n",
    "df_kaggle.info()"
   ]
  },
  {
   "cell_type": "code",
   "execution_count": 7,
   "metadata": {},
   "outputs": [
    {
     "name": "stdout",
     "output_type": "stream",
     "text": [
      "<class 'pandas.core.frame.DataFrame'>\n",
      "Int64Index: 418 entries, 0 to 417\n",
      "Data columns (total 16 columns):\n",
      " #   Column              Non-Null Count  Dtype  \n",
      "---  ------              --------------  -----  \n",
      " 0   Pclass              418 non-null    int64  \n",
      " 1   Sex                 418 non-null    float64\n",
      " 2   Embarked            418 non-null    float64\n",
      " 3   hasFamily           418 non-null    int32  \n",
      " 4   Fare_Group_1        418 non-null    uint8  \n",
      " 5   Fare_Group_2        418 non-null    uint8  \n",
      " 6   Fare_Group_3        418 non-null    uint8  \n",
      " 7   Fare_Group_4        418 non-null    uint8  \n",
      " 8   Fare_Group_5        418 non-null    uint8  \n",
      " 9   Fare_Group_6        418 non-null    uint8  \n",
      " 10  Fare_Group_7        418 non-null    uint8  \n",
      " 11  Fare_Group_8        418 non-null    uint8  \n",
      " 12  Age_Group_Unknown   418 non-null    uint8  \n",
      " 13  Age_Group_Children  418 non-null    uint8  \n",
      " 14  Age_Group_Adult     418 non-null    uint8  \n",
      " 15  Age_Group_Elderly   418 non-null    uint8  \n",
      "dtypes: float64(2), int32(1), int64(1), uint8(12)\n",
      "memory usage: 19.6 KB\n"
     ]
    }
   ],
   "source": [
    "df_kaggle = perform_data_preparation(df_kaggle)\n",
    "df_kaggle.info()"
   ]
  },
  {
   "cell_type": "code",
   "execution_count": 8,
   "metadata": {},
   "outputs": [
    {
     "name": "stdout",
     "output_type": "stream",
     "text": [
      "[0 1 0 0 1 0 1 0 1 0 0 0 1 0 1 1 0 0 1 1 0 0 1 0 1 0 1 0 0 0 0 0 0 0 0 0 1\n",
      " 1 0 0 0 0 0 1 1 0 0 0 1 1 0 0 1 1 0 0 0 0 0 1 0 0 0 1 0 1 1 0 0 1 1 0 1 0\n",
      " 1 0 0 1 0 1 1 0 0 0 0 0 1 1 1 1 1 0 1 0 0 0 1 0 1 0 1 0 0 0 1 0 0 0 0 0 0\n",
      " 1 1 1 1 0 0 1 0 1 1 0 1 0 0 1 0 0 0 0 0 0 0 0 0 0 0 0 1 0 1 1 0 0 0 0 0 0\n",
      " 0 0 1 0 0 1 0 0 1 1 0 1 1 1 1 0 0 0 0 0 1 1 0 0 0 0 0 1 1 0 1 1 0 0 1 0 1\n",
      " 0 1 0 0 0 0 0 1 0 1 0 1 1 0 1 1 1 0 1 0 0 1 0 1 0 0 0 0 1 1 0 1 0 1 0 1 0\n",
      " 1 0 1 1 0 1 0 0 0 1 0 0 0 0 0 0 1 1 1 1 0 0 0 0 1 0 1 1 1 0 0 0 0 0 0 0 1\n",
      " 0 0 0 1 1 0 0 0 0 1 0 0 0 1 1 0 1 0 0 0 0 1 1 1 1 0 0 0 0 0 0 0 1 0 0 0 0\n",
      " 1 0 0 0 0 0 0 0 1 1 0 0 0 1 0 0 0 1 1 1 0 0 0 0 0 0 0 0 1 0 1 0 0 0 1 0 0\n",
      " 1 0 0 0 0 0 0 0 0 0 1 0 1 0 1 0 1 1 0 0 0 0 0 1 0 0 1 0 1 1 0 1 0 0 0 1 0\n",
      " 0 1 0 0 1 1 1 0 0 0 0 0 1 1 0 1 0 0 0 0 0 1 0 0 0 1 0 1 0 0 1 0 1 0 0 0 0\n",
      " 0 1 1 1 1 1 0 1 0 0 0]\n"
     ]
    }
   ],
   "source": [
    "X_kaggle = df_kaggle\n",
    "kaggle_predict = model.predict(X_kaggle)\n",
    "print(kaggle_predict)"
   ]
  },
  {
   "cell_type": "code",
   "execution_count": 9,
   "metadata": {},
   "outputs": [],
   "source": [
    "result = pd.DataFrame(kaggle_predict, columns=['Survived'])\n",
    "result.to_csv('submission.csv', sep=',')"
   ]
  }
 ],
 "metadata": {
  "kernelspec": {
   "display_name": "Python 3",
   "language": "python",
   "name": "python3"
  },
  "language_info": {
   "codemirror_mode": {
    "name": "ipython",
    "version": 3
   },
   "file_extension": ".py",
   "mimetype": "text/x-python",
   "name": "python",
   "nbconvert_exporter": "python",
   "pygments_lexer": "ipython3",
   "version": "3.8.5"
  }
 },
 "nbformat": 4,
 "nbformat_minor": 4
}
