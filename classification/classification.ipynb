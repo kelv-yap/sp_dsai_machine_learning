{
 "cells": [
  {
   "cell_type": "markdown",
   "metadata": {},
   "source": [
    "# APPLIED MACHINE LEARNING ASSIGNMENT 1"
   ]
  },
  {
   "cell_type": "markdown",
   "metadata": {},
   "source": [
    "Lecturer's Name: Paul <br />\n",
    "Student Name: Yap Li Xen (Kelvin) <br />\n",
    "Student ID: P7414389 <br />\n",
    "Class: DSAI/2021\n",
    "\n"
   ]
  },
  {
   "cell_type": "markdown",
   "metadata": {},
   "source": [
    "# PART A: CLASSIFICATION"
   ]
  },
  {
   "cell_type": "markdown",
   "metadata": {},
   "source": [
    "# Background"
   ]
  },
  {
   "cell_type": "markdown",
   "metadata": {},
   "source": [
    "The sinking of the RMS Titanic is one of the most infamous shipwrecks in history. On April 15, 1912, during her maiden voyage, the Titanic sank after colliding with an iceberg, killing 1502 out of 2224 passengers and crew. This sensational tragedy shocked the international community and led to better safety regulations for ships.\n",
    "\n",
    "\n",
    "One of the reasons that the shipwreck led to such loss of life was that there were not enough lifeboats for the passengers and crew. Although there was some element of luck involved in surviving the sinking, some groups of people were more likely to survive than others, such as women, children, and the upper-class.\n",
    "\n",
    "\n",
    "Complete the analysis of what sorts of people were likely to survive. In particular, we ask you to apply the tools of machine learning to predict which passengers survived the tragedy."
   ]
  },
  {
   "cell_type": "markdown",
   "metadata": {},
   "source": [
    "# Steps"
   ]
  },
  {
   "cell_type": "markdown",
   "metadata": {},
   "source": [
    "1. xxx\n",
    "2. xxx\n",
    "3. xxx"
   ]
  },
  {
   "cell_type": "markdown",
   "metadata": {},
   "source": [
    "# Importing All Libraries"
   ]
  },
  {
   "cell_type": "code",
   "execution_count": 2049,
   "metadata": {},
   "outputs": [],
   "source": [
    "import pandas as pd\n",
    "import numpy as np\n",
    "import seaborn as sns\n",
    "from matplotlib import pyplot as plt"
   ]
  },
  {
   "cell_type": "markdown",
   "metadata": {},
   "source": [
    "# Data Importing"
   ]
  },
  {
   "cell_type": "markdown",
   "metadata": {},
   "source": [
    "A first view of the dataset to understand the data structure and data value."
   ]
  },
  {
   "cell_type": "code",
   "execution_count": 2050,
   "metadata": {},
   "outputs": [
    {
     "data": {
      "text/html": [
       "<div>\n",
       "<style scoped>\n",
       "    .dataframe tbody tr th:only-of-type {\n",
       "        vertical-align: middle;\n",
       "    }\n",
       "\n",
       "    .dataframe tbody tr th {\n",
       "        vertical-align: top;\n",
       "    }\n",
       "\n",
       "    .dataframe thead th {\n",
       "        text-align: right;\n",
       "    }\n",
       "</style>\n",
       "<table border=\"1\" class=\"dataframe\">\n",
       "  <thead>\n",
       "    <tr style=\"text-align: right;\">\n",
       "      <th></th>\n",
       "      <th>PassengerId</th>\n",
       "      <th>Survived</th>\n",
       "      <th>Pclass</th>\n",
       "      <th>Name</th>\n",
       "      <th>Sex</th>\n",
       "      <th>Age</th>\n",
       "      <th>SibSp</th>\n",
       "      <th>Parch</th>\n",
       "      <th>Ticket</th>\n",
       "      <th>Fare</th>\n",
       "      <th>Cabin</th>\n",
       "      <th>Embarked</th>\n",
       "    </tr>\n",
       "  </thead>\n",
       "  <tbody>\n",
       "    <tr>\n",
       "      <th>0</th>\n",
       "      <td>1</td>\n",
       "      <td>0</td>\n",
       "      <td>3</td>\n",
       "      <td>Braund, Mr. Owen Harris</td>\n",
       "      <td>male</td>\n",
       "      <td>22.0</td>\n",
       "      <td>1</td>\n",
       "      <td>0</td>\n",
       "      <td>A/5 21171</td>\n",
       "      <td>7.2500</td>\n",
       "      <td>NaN</td>\n",
       "      <td>S</td>\n",
       "    </tr>\n",
       "    <tr>\n",
       "      <th>1</th>\n",
       "      <td>2</td>\n",
       "      <td>1</td>\n",
       "      <td>1</td>\n",
       "      <td>Cumings, Mrs. John Bradley (Florence Briggs Th...</td>\n",
       "      <td>female</td>\n",
       "      <td>38.0</td>\n",
       "      <td>1</td>\n",
       "      <td>0</td>\n",
       "      <td>PC 17599</td>\n",
       "      <td>71.2833</td>\n",
       "      <td>C85</td>\n",
       "      <td>C</td>\n",
       "    </tr>\n",
       "    <tr>\n",
       "      <th>2</th>\n",
       "      <td>3</td>\n",
       "      <td>1</td>\n",
       "      <td>3</td>\n",
       "      <td>Heikkinen, Miss. Laina</td>\n",
       "      <td>female</td>\n",
       "      <td>26.0</td>\n",
       "      <td>0</td>\n",
       "      <td>0</td>\n",
       "      <td>STON/O2. 3101282</td>\n",
       "      <td>7.9250</td>\n",
       "      <td>NaN</td>\n",
       "      <td>S</td>\n",
       "    </tr>\n",
       "    <tr>\n",
       "      <th>3</th>\n",
       "      <td>4</td>\n",
       "      <td>1</td>\n",
       "      <td>1</td>\n",
       "      <td>Futrelle, Mrs. Jacques Heath (Lily May Peel)</td>\n",
       "      <td>female</td>\n",
       "      <td>35.0</td>\n",
       "      <td>1</td>\n",
       "      <td>0</td>\n",
       "      <td>113803</td>\n",
       "      <td>53.1000</td>\n",
       "      <td>C123</td>\n",
       "      <td>S</td>\n",
       "    </tr>\n",
       "    <tr>\n",
       "      <th>4</th>\n",
       "      <td>5</td>\n",
       "      <td>0</td>\n",
       "      <td>3</td>\n",
       "      <td>Allen, Mr. William Henry</td>\n",
       "      <td>male</td>\n",
       "      <td>35.0</td>\n",
       "      <td>0</td>\n",
       "      <td>0</td>\n",
       "      <td>373450</td>\n",
       "      <td>8.0500</td>\n",
       "      <td>NaN</td>\n",
       "      <td>S</td>\n",
       "    </tr>\n",
       "  </tbody>\n",
       "</table>\n",
       "</div>"
      ],
      "text/plain": [
       "   PassengerId  Survived  Pclass  \\\n",
       "0            1         0       3   \n",
       "1            2         1       1   \n",
       "2            3         1       3   \n",
       "3            4         1       1   \n",
       "4            5         0       3   \n",
       "\n",
       "                                                Name     Sex   Age  SibSp  \\\n",
       "0                            Braund, Mr. Owen Harris    male  22.0      1   \n",
       "1  Cumings, Mrs. John Bradley (Florence Briggs Th...  female  38.0      1   \n",
       "2                             Heikkinen, Miss. Laina  female  26.0      0   \n",
       "3       Futrelle, Mrs. Jacques Heath (Lily May Peel)  female  35.0      1   \n",
       "4                           Allen, Mr. William Henry    male  35.0      0   \n",
       "\n",
       "   Parch            Ticket     Fare Cabin Embarked  \n",
       "0      0         A/5 21171   7.2500   NaN        S  \n",
       "1      0          PC 17599  71.2833   C85        C  \n",
       "2      0  STON/O2. 3101282   7.9250   NaN        S  \n",
       "3      0            113803  53.1000  C123        S  \n",
       "4      0            373450   8.0500   NaN        S  "
      ]
     },
     "execution_count": 2050,
     "metadata": {},
     "output_type": "execute_result"
    }
   ],
   "source": [
    "df = pd.read_csv('data/train.csv', sep=',')\n",
    "df.head()"
   ]
  },
  {
   "cell_type": "markdown",
   "metadata": {},
   "source": [
    "![](data/data_description.png)"
   ]
  },
  {
   "cell_type": "code",
   "execution_count": 2051,
   "metadata": {},
   "outputs": [
    {
     "name": "stdout",
     "output_type": "stream",
     "text": [
      "<class 'pandas.core.frame.DataFrame'>\n",
      "RangeIndex: 891 entries, 0 to 890\n",
      "Data columns (total 12 columns):\n",
      " #   Column       Non-Null Count  Dtype  \n",
      "---  ------       --------------  -----  \n",
      " 0   PassengerId  891 non-null    int64  \n",
      " 1   Survived     891 non-null    int64  \n",
      " 2   Pclass       891 non-null    int64  \n",
      " 3   Name         891 non-null    object \n",
      " 4   Sex          891 non-null    object \n",
      " 5   Age          714 non-null    float64\n",
      " 6   SibSp        891 non-null    int64  \n",
      " 7   Parch        891 non-null    int64  \n",
      " 8   Ticket       891 non-null    object \n",
      " 9   Fare         891 non-null    float64\n",
      " 10  Cabin        204 non-null    object \n",
      " 11  Embarked     889 non-null    object \n",
      "dtypes: float64(2), int64(5), object(5)\n",
      "memory usage: 83.7+ KB\n"
     ]
    }
   ],
   "source": [
    "df.info()"
   ]
  },
  {
   "cell_type": "code",
   "execution_count": 2052,
   "metadata": {},
   "outputs": [
    {
     "data": {
      "text/plain": [
       "(891, 8)"
      ]
     },
     "execution_count": 2052,
     "metadata": {},
     "output_type": "execute_result"
    }
   ],
   "source": [
    "# df = df.drop(['PassengerId', 'Name', 'Ticket', 'Cabin', 'SibSp', 'Parch', 'Fare', 'Embarked'], 1)\n",
    "# df = df.drop(['PassengerId', 'Name', 'Ticket', 'Cabin'], 1)\n",
    "df = df.drop(['PassengerId', 'Name', 'Ticket', 'Cabin'], 1)\n",
    "df.shape"
   ]
  },
  {
   "cell_type": "markdown",
   "metadata": {},
   "source": [
    "# Exploratory Data Analysis"
   ]
  },
  {
   "cell_type": "code",
   "execution_count": 2053,
   "metadata": {},
   "outputs": [],
   "source": [
    "# sns.pairplot(df, hue=\"Survived\", height=2)\n",
    "# plt.show()"
   ]
  },
  {
   "cell_type": "code",
   "execution_count": 2054,
   "metadata": {},
   "outputs": [],
   "source": [
    "# corr = df.corr()\n",
    "# sns.heatmap(corr, cmap=\"YlGnBu\",annot=True,\n",
    "#             xticklabels=corr.columns.values,\n",
    "#             yticklabels=corr.columns.values) \n",
    "# plt.show()"
   ]
  },
  {
   "cell_type": "markdown",
   "metadata": {},
   "source": [
    "# Data Preparation"
   ]
  },
  {
   "cell_type": "code",
   "execution_count": 2055,
   "metadata": {},
   "outputs": [
    {
     "name": "stdout",
     "output_type": "stream",
     "text": [
      "   Survived  Pclass     Sex   Age     Fare Embarked  hasFamily\n",
      "0         0       3    male  22.0   7.2500        S          1\n",
      "1         1       1  female  38.0  71.2833        C          1\n",
      "2         1       3  female  26.0   7.9250        S          0\n",
      "3         1       1  female  35.0  53.1000        S          1\n",
      "4         0       3    male  35.0   8.0500        S          0\n"
     ]
    },
    {
     "data": {
      "text/plain": [
       "(891, 7)"
      ]
     },
     "execution_count": 2055,
     "metadata": {},
     "output_type": "execute_result"
    }
   ],
   "source": [
    "# 1. SibSp & Parch\n",
    "df['hasFamily'] = np.where((df['SibSp'] <= 0) & (df['Parch'] <= 0), 0, 1)\n",
    "df = df.drop(['SibSp', 'Parch'], 1)\n",
    "print(df.head())\n",
    "df.shape"
   ]
  },
  {
   "cell_type": "code",
   "execution_count": 2056,
   "metadata": {},
   "outputs": [
    {
     "name": "stdout",
     "output_type": "stream",
     "text": [
      "   Survived  Pclass     Sex   Age Embarked  hasFamily Fare_Group\n",
      "0         0       3    male  22.0        S          1          1\n",
      "1         1       1  female  38.0        C          1          5\n",
      "2         1       3  female  26.0        S          0          1\n",
      "3         1       1  female  35.0        S          1          4\n",
      "4         0       3    male  35.0        S          0          1\n"
     ]
    },
    {
     "data": {
      "text/plain": [
       "(891, 7)"
      ]
     },
     "execution_count": 2056,
     "metadata": {},
     "output_type": "execute_result"
    }
   ],
   "source": [
    "# 2. Group Fare\n",
    "fare_bins=[0,10,20,40,60,80,100,200,600]\n",
    "fare_labels=[1,2,3,4,5,6,7,8]\n",
    "df['Fare_Group'] = pd.cut(df['Fare'], bins=fare_bins, labels=fare_labels, right=False)\n",
    "df = df.drop('Fare', 1)\n",
    "print(df.head())\n",
    "df.shape"
   ]
  },
  {
   "cell_type": "code",
   "execution_count": 2057,
   "metadata": {},
   "outputs": [
    {
     "name": "stdout",
     "output_type": "stream",
     "text": [
      "   Survived  Pclass     Sex Embarked  hasFamily Fare_Group Age_Group\n",
      "0         0       3    male        S          1          1     Adult\n",
      "1         1       1  female        C          1          5     Adult\n",
      "2         1       3  female        S          0          1     Adult\n",
      "3         1       1  female        S          1          4     Adult\n",
      "4         0       3    male        S          0          1     Adult\n"
     ]
    },
    {
     "data": {
      "text/plain": [
       "(891, 7)"
      ]
     },
     "execution_count": 2057,
     "metadata": {},
     "output_type": "execute_result"
    }
   ],
   "source": [
    "# 3. Age (delete OR group)\n",
    "df.Age.replace('', np.nan, inplace=True)\n",
    "df['Age'] = df['Age'].fillna(-1)\n",
    "# df = df.dropna()\n",
    "\n",
    "age_bins=[-1,0,3,13,20,60,120]\n",
    "age_labels=['Unknown','Baby','Children','Teenager','Adult','Elderly']\n",
    "# age_bins=[0,3,13,20,60,120]\n",
    "# age_labels=['Baby','Children','Teenager','Adult','Elderly']\n",
    "# age_labels=[1,2,3,4,5,6]\n",
    "df['Age_Group'] = pd.cut(df['Age'], bins=age_bins, labels=age_labels, right=False)\n",
    "df = df.drop('Age', 1)\n",
    "print(df.head())\n",
    "df.shape"
   ]
  },
  {
   "cell_type": "code",
   "execution_count": 2058,
   "metadata": {
    "scrolled": true
   },
   "outputs": [],
   "source": [
    "# df.info()\n",
    "\n",
    "# df.Fare_Group = df.Fare_Group.astype('int64')\n",
    "# df.Age_Group = df.Age_Group.astype('int64')\n",
    "# df.info()\n",
    "\n",
    "# sns.pairplot(df, hue=\"Survived\", height=2)\n",
    "# plt.show()"
   ]
  },
  {
   "cell_type": "code",
   "execution_count": 2059,
   "metadata": {},
   "outputs": [],
   "source": [
    "# # 4. Embarked\n",
    "# from sklearn.preprocessing import OneHotEncoder\n",
    "\n",
    "# print(df['Embarked'])\n",
    "\n",
    "# ohe = OneHotEncoder()\n",
    "# ohe.fit_transform(df['Embarked'].values.reshape(-1,1)).toarray()\n",
    "# # print(df.head())\n",
    "# # df.shape"
   ]
  },
  {
   "cell_type": "code",
   "execution_count": 2060,
   "metadata": {},
   "outputs": [],
   "source": [
    "# from sklearn.preprocessing import LabelEncoder\n",
    "# le = LabelEncoder()\n",
    "\n",
    "# print(le.fit_transform(df['Embarked']))"
   ]
  },
  {
   "cell_type": "code",
   "execution_count": null,
   "metadata": {},
   "outputs": [],
   "source": []
  },
  {
   "cell_type": "code",
   "execution_count": 2061,
   "metadata": {},
   "outputs": [
    {
     "name": "stdout",
     "output_type": "stream",
     "text": [
      "   Survived  Pclass  hasFamily  Sex_male  Embarked_C  Embarked_Q  Embarked_S  \\\n",
      "0         0       3          1         1           0           0           1   \n",
      "1         1       1          1         0           1           0           0   \n",
      "2         1       3          0         0           0           0           1   \n",
      "3         1       1          1         0           0           0           1   \n",
      "4         0       3          0         1           0           0           1   \n",
      "\n",
      "   Fare_Group_1  Fare_Group_2  Fare_Group_3  ...  Fare_Group_5  Fare_Group_6  \\\n",
      "0             1             0             0  ...             0             0   \n",
      "1             0             0             0  ...             1             0   \n",
      "2             1             0             0  ...             0             0   \n",
      "3             0             0             0  ...             0             0   \n",
      "4             1             0             0  ...             0             0   \n",
      "\n",
      "   Fare_Group_7  Fare_Group_8  Age_Group_Unknown  Age_Group_Baby  \\\n",
      "0             0             0                  0               0   \n",
      "1             0             0                  0               0   \n",
      "2             0             0                  0               0   \n",
      "3             0             0                  0               0   \n",
      "4             0             0                  0               0   \n",
      "\n",
      "   Age_Group_Children  Age_Group_Teenager  Age_Group_Adult  Age_Group_Elderly  \n",
      "0                   0                   0                1                  0  \n",
      "1                   0                   0                1                  0  \n",
      "2                   0                   0                1                  0  \n",
      "3                   0                   0                1                  0  \n",
      "4                   0                   0                1                  0  \n",
      "\n",
      "[5 rows x 21 columns]\n"
     ]
    },
    {
     "data": {
      "text/plain": [
       "(891, 21)"
      ]
     },
     "execution_count": 2061,
     "metadata": {},
     "output_type": "execute_result"
    }
   ],
   "source": [
    "# 5. Sex (Encoding)\n",
    "df = pd.get_dummies(df)\n",
    "df = df.drop('Sex_female', 1)\n",
    "print(df.head())\n",
    "df.shape"
   ]
  },
  {
   "cell_type": "markdown",
   "metadata": {},
   "source": [
    "# Train Model"
   ]
  },
  {
   "cell_type": "code",
   "execution_count": 2062,
   "metadata": {},
   "outputs": [],
   "source": [
    "from sklearn.model_selection import train_test_split\n",
    "X = df.drop('Survived', axis=1)\n",
    "y = df['Survived']\n",
    "\n",
    "X_train, X_test, y_train, y_test = train_test_split(X, y, test_size=0.2, random_state=42)"
   ]
  },
  {
   "cell_type": "markdown",
   "metadata": {},
   "source": [
    "## 1. Logistic Regression"
   ]
  },
  {
   "cell_type": "code",
   "execution_count": 2063,
   "metadata": {},
   "outputs": [],
   "source": [
    "# from sklearn.linear_model import LogisticRegression\n",
    "\n",
    "# # model = LogisticRegression(solver='newton-cg',multi_class='multinomial')\n",
    "# model = LogisticRegression()\n",
    "# model.fit(X_train, y_train)"
   ]
  },
  {
   "cell_type": "markdown",
   "metadata": {},
   "source": [
    "## 2. K-Nearest Neighbour"
   ]
  },
  {
   "cell_type": "code",
   "execution_count": 2064,
   "metadata": {},
   "outputs": [],
   "source": [
    "# from sklearn.neighbors import KNeighborsClassifier\n",
    "\n",
    "# model = KNeighborsClassifier()\n",
    "# model.fit(X_train, y_train)"
   ]
  },
  {
   "cell_type": "markdown",
   "metadata": {},
   "source": [
    "## 3. Navie Bayes"
   ]
  },
  {
   "cell_type": "code",
   "execution_count": 2065,
   "metadata": {},
   "outputs": [],
   "source": [
    "# from sklearn.naive_bayes import GaussianNB\n",
    "\n",
    "# model = GaussianNB()\n",
    "# model.fit(X_train, y_train)"
   ]
  },
  {
   "cell_type": "markdown",
   "metadata": {},
   "source": [
    "## 4. Classification Tree"
   ]
  },
  {
   "cell_type": "code",
   "execution_count": 2066,
   "metadata": {},
   "outputs": [],
   "source": [
    "# from sklearn.tree import DecisionTreeClassifier\n",
    "\n",
    "# model = DecisionTreeClassifier()\n",
    "# model.fit(X_train, y_train)"
   ]
  },
  {
   "cell_type": "markdown",
   "metadata": {},
   "source": [
    "## 5. Support Vector Classifier"
   ]
  },
  {
   "cell_type": "markdown",
   "metadata": {},
   "source": [
    "# Score Model"
   ]
  },
  {
   "cell_type": "code",
   "execution_count": 2067,
   "metadata": {},
   "outputs": [],
   "source": [
    "# from sklearn.svm import SVC\n",
    "\n",
    "# model = SVC()\n",
    "# model.fit(X_train, y_train)"
   ]
  },
  {
   "cell_type": "code",
   "execution_count": 2068,
   "metadata": {},
   "outputs": [],
   "source": [
    "# y_predict = model.predict(X_train)"
   ]
  },
  {
   "cell_type": "code",
   "execution_count": 2069,
   "metadata": {},
   "outputs": [],
   "source": [
    "# from sklearn.metrics import accuracy_score\n",
    "# print(\"Accuracy Score (Train Data): {:.2f}%\".format(accuracy_score(y_train, y_predict)*100))"
   ]
  },
  {
   "cell_type": "code",
   "execution_count": 2070,
   "metadata": {},
   "outputs": [],
   "source": [
    "# y_predict = model.predict(X_test)"
   ]
  },
  {
   "cell_type": "code",
   "execution_count": 2071,
   "metadata": {},
   "outputs": [],
   "source": [
    "# from sklearn.metrics import accuracy_score\n",
    "# print(\"Accuracy Score (Test Data): {:.2f}%\".format(accuracy_score(y_test, y_predict)*100))"
   ]
  },
  {
   "cell_type": "code",
   "execution_count": 2072,
   "metadata": {},
   "outputs": [
    {
     "name": "stdout",
     "output_type": "stream",
     "text": [
      "                  Algorithm accuracy_score(train) accuracy_score(test)  \\\n",
      "0      LogisticRegression()                80.48%               79.33%   \n",
      "1    KNeighborsClassifier()                83.71%               78.21%   \n",
      "2              GaussianNB()                70.22%               71.51%   \n",
      "3  DecisionTreeClassifier()                87.08%               81.01%   \n",
      "4                     SVC()                82.72%               80.45%   \n",
      "\n",
      "  roc_auc_score(train) roc_auc_score(test)      Confusion Matrix  \n",
      "0                 0.78                0.78  [[88, 17], [20, 54]]  \n",
      "1                 0.81                0.76  [[92, 13], [26, 48]]  \n",
      "2                 0.65                0.68  [[95, 10], [41, 33]]  \n",
      "3                 0.84                0.79   [[96, 9], [25, 49]]  \n",
      "4                 0.80                0.79  [[92, 13], [22, 52]]  \n"
     ]
    }
   ],
   "source": [
    "# import 5 different models\n",
    "from sklearn.linear_model import LogisticRegression\n",
    "from sklearn.neighbors import KNeighborsClassifier\n",
    "from sklearn.naive_bayes import GaussianNB\n",
    "from sklearn.tree import DecisionTreeClassifier\n",
    "from sklearn.svm import SVC\n",
    "\n",
    "# import different metrics\n",
    "from sklearn.metrics import accuracy_score\n",
    "from sklearn.metrics import roc_auc_score\n",
    "from sklearn.metrics import confusion_matrix\n",
    "\n",
    "# Assign 5 models into arrays\n",
    "models = [LogisticRegression(), \n",
    "          KNeighborsClassifier(), \n",
    "          GaussianNB(), \n",
    "          DecisionTreeClassifier(), \n",
    "          SVC()]\n",
    "\n",
    "#Loop models and compile score into table\n",
    "rows = []\n",
    "for i in models:\n",
    "    # Fit Training Data to model selected\n",
    "    model = i\n",
    "    model.fit(X_train, y_train)\n",
    "    \n",
    "    # Predict Train Data\n",
    "    y_predict_train_data = model.predict(X_train)\n",
    "    x_train_accuracy_score = accuracy_score(y_train, y_predict_train_data)\n",
    "    x_train_auc_score = roc_auc_score(y_train, y_predict_train_data)\n",
    "\n",
    "    # Predict Test Data\n",
    "    y_predict_test_data = model.predict(X_test)\n",
    "    x_test_accuracy_score = accuracy_score(y_test, y_predict_test_data)\n",
    "    x_test_auc_score = roc_auc_score(y_test, y_predict_test_data)\n",
    "\n",
    "    # Calculate Confusion_Matrix\n",
    "    cm = confusion_matrix(y_test, y_predict_test_data)\n",
    "\n",
    "    rows.append([i, \n",
    "                 \"{:.2f}%\".format(x_train_accuracy_score*100), \n",
    "                 \"{:.2f}%\".format(x_test_accuracy_score*100), \n",
    "                 \"{:.2f}\".format(x_train_auc_score), \n",
    "                 \"{:.2f}\".format(x_test_auc_score), \n",
    "                 cm])\n",
    "\n",
    "# Display summary result\n",
    "summary_table = pd.DataFrame(rows, columns=[\"Algorithm\", \n",
    "                                            \"accuracy_score(train)\", \n",
    "                                            \"accuracy_score(test)\", \n",
    "                                            \"roc_auc_score(train)\", \n",
    "                                            \"roc_auc_score(test)\", \n",
    "                                            \"Confusion Matrix\"])\n",
    "print(summary_table)"
   ]
  },
  {
   "cell_type": "markdown",
   "metadata": {},
   "source": [
    "# Evaluate Model"
   ]
  },
  {
   "cell_type": "code",
   "execution_count": 2073,
   "metadata": {},
   "outputs": [],
   "source": [
    "# from sklearn.metrics import confusion_matrix\n",
    "# cm = confusion_matrix(y_test, y_predict)\n",
    "# print(cm)"
   ]
  },
  {
   "cell_type": "code",
   "execution_count": 2074,
   "metadata": {},
   "outputs": [
    {
     "data": {
      "image/png": "[encoded data removed]",
      "text/plain": [
       "<Figure size 432x288 with 2 Axes>"
      ]
     },
     "metadata": {
      "needs_background": "light"
     },
     "output_type": "display_data"
    },
    {
     "data": {
      "image/png": "[encoded data removed]",
      "text/plain": [
       "<Figure size 432x288 with 2 Axes>"
      ]
     },
     "metadata": {
      "needs_background": "light"
     },
     "output_type": "display_data"
    },
    {
     "data": {
      "image/png": "[encoded data removed]",
      "text/plain": [
       "<Figure size 432x288 with 2 Axes>"
      ]
     },
     "metadata": {
      "needs_background": "light"
     },
     "output_type": "display_data"
    },
    {
     "data": {
      "image/png": "[encoded data removed]",
      "text/plain": [
       "<Figure size 432x288 with 2 Axes>"
      ]
     },
     "metadata": {
      "needs_background": "light"
     },
     "output_type": "display_data"
    },
    {
     "data": {
      "image/png": "[encoded data removed]",
      "text/plain": [
       "<Figure size 432x288 with 2 Axes>"
      ]
     },
     "metadata": {
      "needs_background": "light"
     },
     "output_type": "display_data"
    }
   ],
   "source": [
    "from sklearn.metrics import plot_confusion_matrix\n",
    "\n",
    "for i in models:\n",
    "    # Fit Training Data to model selected\n",
    "    model = i\n",
    "    \n",
    "    plot_confusion_matrix(model, X_test, y_test)\n",
    "    plt.title(model)\n",
    "    plt.show()"
   ]
  },
  {
   "cell_type": "code",
   "execution_count": 2075,
   "metadata": {},
   "outputs": [
    {
     "name": "stdout",
     "output_type": "stream",
     "text": [
      "              precision    recall  f1-score   support\n",
      "\n",
      "           0       0.81      0.84      0.83       105\n",
      "           1       0.76      0.73      0.74        74\n",
      "\n",
      "    accuracy                           0.79       179\n",
      "   macro avg       0.79      0.78      0.79       179\n",
      "weighted avg       0.79      0.79      0.79       179\n",
      "\n",
      "              precision    recall  f1-score   support\n",
      "\n",
      "           0       0.78      0.88      0.83       105\n",
      "           1       0.79      0.65      0.71        74\n",
      "\n",
      "    accuracy                           0.78       179\n",
      "   macro avg       0.78      0.76      0.77       179\n",
      "weighted avg       0.78      0.78      0.78       179\n",
      "\n",
      "              precision    recall  f1-score   support\n",
      "\n",
      "           0       0.70      0.90      0.79       105\n",
      "           1       0.77      0.45      0.56        74\n",
      "\n",
      "    accuracy                           0.72       179\n",
      "   macro avg       0.73      0.68      0.68       179\n",
      "weighted avg       0.73      0.72      0.70       179\n",
      "\n",
      "              precision    recall  f1-score   support\n",
      "\n",
      "           0       0.80      0.91      0.85       105\n",
      "           1       0.85      0.68      0.75        74\n",
      "\n",
      "    accuracy                           0.82       179\n",
      "   macro avg       0.82      0.79      0.80       179\n",
      "weighted avg       0.82      0.82      0.81       179\n",
      "\n",
      "              precision    recall  f1-score   support\n",
      "\n",
      "           0       0.81      0.88      0.84       105\n",
      "           1       0.80      0.70      0.75        74\n",
      "\n",
      "    accuracy                           0.80       179\n",
      "   macro avg       0.80      0.79      0.79       179\n",
      "weighted avg       0.80      0.80      0.80       179\n",
      "\n"
     ]
    }
   ],
   "source": [
    "# from sklearn.metrics import classification_report\n",
    "# print(classification_report(y_test, y_predict))\n",
    "\n",
    "for i in models:\n",
    "    # Fit Training Data to model selected\n",
    "    model = i\n",
    "    model.fit(X_train, y_train)\n",
    "\n",
    "    # Predict Test Data\n",
    "    y_predict = model.predict(X_test)\n",
    "    \n",
    "    print(classification_report(y_test, y_predict))\n",
    "    "
   ]
  },
  {
   "cell_type": "markdown",
   "metadata": {},
   "source": [
    "# Improve Model"
   ]
  },
  {
   "cell_type": "markdown",
   "metadata": {},
   "source": [
    "# References / Appendixes"
   ]
  },
  {
   "cell_type": "markdown",
   "metadata": {},
   "source": [
    "1. https://www.kaggle.com/c/titanic/data\n",
    "2. xx"
   ]
  }
 ],
 "metadata": {
  "kernelspec": {
   "display_name": "Python 3",
   "language": "python",
   "name": "python3"
  },
  "language_info": {
   "codemirror_mode": {
    "name": "ipython",
    "version": 3
   },
   "file_extension": ".py",
   "mimetype": "text/x-python",
   "name": "python",
   "nbconvert_exporter": "python",
   "pygments_lexer": "ipython3",
   "version": "3.8.5"
  }
 },
 "nbformat": 4,
 "nbformat_minor": 4
}
