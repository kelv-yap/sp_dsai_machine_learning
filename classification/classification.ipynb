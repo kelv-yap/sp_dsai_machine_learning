{
 "cells": [
  {
   "cell_type": "markdown",
   "metadata": {},
   "source": [
    "# APPLIED MACHINE LEARNING ASSIGNMENT 1"
   ]
  },
  {
   "cell_type": "markdown",
   "metadata": {},
   "source": [
    "Lecturer's Name: Paul <br />\n",
    "Student Name: Yap Li Xen (Kelvin) <br />\n",
    "Student ID: P7414389 <br />\n",
    "Class: DSAI/2021\n",
    "\n"
   ]
  },
  {
   "cell_type": "markdown",
   "metadata": {},
   "source": [
    "# PART A: CLASSIFICATION"
   ]
  },
  {
   "cell_type": "markdown",
   "metadata": {},
   "source": [
    "# Background"
   ]
  },
  {
   "cell_type": "markdown",
   "metadata": {},
   "source": [
    "The sinking of the RMS Titanic is one of the most infamous shipwrecks in history. On April 15, 1912, during her maiden voyage, the Titanic sank after colliding with an iceberg, killing 1502 out of 2224 passengers and crew. This sensational tragedy shocked the international community and led to better safety regulations for ships.\n",
    "\n",
    "\n",
    "One of the reasons that the shipwreck led to such loss of life was that there were not enough lifeboats for the passengers and crew. Although there was some element of luck involved in surviving the sinking, some groups of people were more likely to survive than others, such as women, children, and the upper-class.\n",
    "\n",
    "\n",
    "Complete the analysis of what sorts of people were likely to survive. In particular, we ask you to apply the tools of machine learning to predict which passengers survived the tragedy."
   ]
  },
  {
   "cell_type": "markdown",
   "metadata": {},
   "source": [
    "# Steps"
   ]
  },
  {
   "cell_type": "markdown",
   "metadata": {},
   "source": [
    "1. xxx\n",
    "2. xxx\n",
    "3. xxx"
   ]
  },
  {
   "cell_type": "markdown",
   "metadata": {},
   "source": [
    "# Importing All Libraries"
   ]
  },
  {
   "cell_type": "code",
   "execution_count": 605,
   "metadata": {},
   "outputs": [],
   "source": [
    "import pandas as pd\n",
    "import numpy as np\n",
    "import seaborn as sns\n",
    "from matplotlib import pyplot as plt"
   ]
  },
  {
   "cell_type": "markdown",
   "metadata": {},
   "source": [
    "# Data Importing"
   ]
  },
  {
   "cell_type": "markdown",
   "metadata": {},
   "source": [
    "A first view of the dataset to understand the data structure and data value."
   ]
  },
  {
   "cell_type": "code",
   "execution_count": 606,
   "metadata": {},
   "outputs": [
    {
     "data": {
      "text/html": [
       "<div>\n",
       "<style scoped>\n",
       "    .dataframe tbody tr th:only-of-type {\n",
       "        vertical-align: middle;\n",
       "    }\n",
       "\n",
       "    .dataframe tbody tr th {\n",
       "        vertical-align: top;\n",
       "    }\n",
       "\n",
       "    .dataframe thead th {\n",
       "        text-align: right;\n",
       "    }\n",
       "</style>\n",
       "<table border=\"1\" class=\"dataframe\">\n",
       "  <thead>\n",
       "    <tr style=\"text-align: right;\">\n",
       "      <th></th>\n",
       "      <th>PassengerId</th>\n",
       "      <th>Survived</th>\n",
       "      <th>Pclass</th>\n",
       "      <th>Name</th>\n",
       "      <th>Sex</th>\n",
       "      <th>Age</th>\n",
       "      <th>SibSp</th>\n",
       "      <th>Parch</th>\n",
       "      <th>Ticket</th>\n",
       "      <th>Fare</th>\n",
       "      <th>Cabin</th>\n",
       "      <th>Embarked</th>\n",
       "    </tr>\n",
       "  </thead>\n",
       "  <tbody>\n",
       "    <tr>\n",
       "      <th>0</th>\n",
       "      <td>1</td>\n",
       "      <td>0</td>\n",
       "      <td>3</td>\n",
       "      <td>Braund, Mr. Owen Harris</td>\n",
       "      <td>male</td>\n",
       "      <td>22.0</td>\n",
       "      <td>1</td>\n",
       "      <td>0</td>\n",
       "      <td>A/5 21171</td>\n",
       "      <td>7.2500</td>\n",
       "      <td>NaN</td>\n",
       "      <td>S</td>\n",
       "    </tr>\n",
       "    <tr>\n",
       "      <th>1</th>\n",
       "      <td>2</td>\n",
       "      <td>1</td>\n",
       "      <td>1</td>\n",
       "      <td>Cumings, Mrs. John Bradley (Florence Briggs Th...</td>\n",
       "      <td>female</td>\n",
       "      <td>38.0</td>\n",
       "      <td>1</td>\n",
       "      <td>0</td>\n",
       "      <td>PC 17599</td>\n",
       "      <td>71.2833</td>\n",
       "      <td>C85</td>\n",
       "      <td>C</td>\n",
       "    </tr>\n",
       "    <tr>\n",
       "      <th>2</th>\n",
       "      <td>3</td>\n",
       "      <td>1</td>\n",
       "      <td>3</td>\n",
       "      <td>Heikkinen, Miss. Laina</td>\n",
       "      <td>female</td>\n",
       "      <td>26.0</td>\n",
       "      <td>0</td>\n",
       "      <td>0</td>\n",
       "      <td>STON/O2. 3101282</td>\n",
       "      <td>7.9250</td>\n",
       "      <td>NaN</td>\n",
       "      <td>S</td>\n",
       "    </tr>\n",
       "    <tr>\n",
       "      <th>3</th>\n",
       "      <td>4</td>\n",
       "      <td>1</td>\n",
       "      <td>1</td>\n",
       "      <td>Futrelle, Mrs. Jacques Heath (Lily May Peel)</td>\n",
       "      <td>female</td>\n",
       "      <td>35.0</td>\n",
       "      <td>1</td>\n",
       "      <td>0</td>\n",
       "      <td>113803</td>\n",
       "      <td>53.1000</td>\n",
       "      <td>C123</td>\n",
       "      <td>S</td>\n",
       "    </tr>\n",
       "    <tr>\n",
       "      <th>4</th>\n",
       "      <td>5</td>\n",
       "      <td>0</td>\n",
       "      <td>3</td>\n",
       "      <td>Allen, Mr. William Henry</td>\n",
       "      <td>male</td>\n",
       "      <td>35.0</td>\n",
       "      <td>0</td>\n",
       "      <td>0</td>\n",
       "      <td>373450</td>\n",
       "      <td>8.0500</td>\n",
       "      <td>NaN</td>\n",
       "      <td>S</td>\n",
       "    </tr>\n",
       "  </tbody>\n",
       "</table>\n",
       "</div>"
      ],
      "text/plain": [
       "   PassengerId  Survived  Pclass  \\\n",
       "0            1         0       3   \n",
       "1            2         1       1   \n",
       "2            3         1       3   \n",
       "3            4         1       1   \n",
       "4            5         0       3   \n",
       "\n",
       "                                                Name     Sex   Age  SibSp  \\\n",
       "0                            Braund, Mr. Owen Harris    male  22.0      1   \n",
       "1  Cumings, Mrs. John Bradley (Florence Briggs Th...  female  38.0      1   \n",
       "2                             Heikkinen, Miss. Laina  female  26.0      0   \n",
       "3       Futrelle, Mrs. Jacques Heath (Lily May Peel)  female  35.0      1   \n",
       "4                           Allen, Mr. William Henry    male  35.0      0   \n",
       "\n",
       "   Parch            Ticket     Fare Cabin Embarked  \n",
       "0      0         A/5 21171   7.2500   NaN        S  \n",
       "1      0          PC 17599  71.2833   C85        C  \n",
       "2      0  STON/O2. 3101282   7.9250   NaN        S  \n",
       "3      0            113803  53.1000  C123        S  \n",
       "4      0            373450   8.0500   NaN        S  "
      ]
     },
     "execution_count": 606,
     "metadata": {},
     "output_type": "execute_result"
    }
   ],
   "source": [
    "df = pd.read_csv('data/train.csv', sep=',')\n",
    "df.head()"
   ]
  },
  {
   "cell_type": "markdown",
   "metadata": {},
   "source": [
    "![](data/data_description.png)"
   ]
  },
  {
   "cell_type": "code",
   "execution_count": 607,
   "metadata": {},
   "outputs": [
    {
     "name": "stdout",
     "output_type": "stream",
     "text": [
      "<class 'pandas.core.frame.DataFrame'>\n",
      "RangeIndex: 891 entries, 0 to 890\n",
      "Data columns (total 12 columns):\n",
      " #   Column       Non-Null Count  Dtype  \n",
      "---  ------       --------------  -----  \n",
      " 0   PassengerId  891 non-null    int64  \n",
      " 1   Survived     891 non-null    int64  \n",
      " 2   Pclass       891 non-null    int64  \n",
      " 3   Name         891 non-null    object \n",
      " 4   Sex          891 non-null    object \n",
      " 5   Age          714 non-null    float64\n",
      " 6   SibSp        891 non-null    int64  \n",
      " 7   Parch        891 non-null    int64  \n",
      " 8   Ticket       891 non-null    object \n",
      " 9   Fare         891 non-null    float64\n",
      " 10  Cabin        204 non-null    object \n",
      " 11  Embarked     889 non-null    object \n",
      "dtypes: float64(2), int64(5), object(5)\n",
      "memory usage: 83.7+ KB\n"
     ]
    }
   ],
   "source": [
    "df.info()"
   ]
  },
  {
   "cell_type": "code",
   "execution_count": 608,
   "metadata": {},
   "outputs": [
    {
     "data": {
      "text/plain": [
       "(891, 8)"
      ]
     },
     "execution_count": 608,
     "metadata": {},
     "output_type": "execute_result"
    }
   ],
   "source": [
    "#Feature Selection\n",
    "# df = df.drop(['PassengerId', 'Name', 'Ticket', 'Cabin', 'SibSp', 'Parch', 'Fare', 'Embarked'], 1)\n",
    "# df = df.drop(['PassengerId', 'Name', 'Ticket', 'Cabin'], 1)\n",
    "df = df.drop(['PassengerId', 'Name', 'Ticket', 'Cabin'], 1)\n",
    "df.shape"
   ]
  },
  {
   "cell_type": "markdown",
   "metadata": {},
   "source": [
    "# Exploratory Data Analysis"
   ]
  },
  {
   "cell_type": "code",
   "execution_count": 609,
   "metadata": {},
   "outputs": [],
   "source": [
    "# sns.pairplot(df, hue=\"Survived\", height=2)\n",
    "# plt.show()"
   ]
  },
  {
   "cell_type": "code",
   "execution_count": 610,
   "metadata": {},
   "outputs": [],
   "source": [
    "# corr = df.corr()\n",
    "# sns.heatmap(corr, cmap=\"YlGnBu\",annot=True,\n",
    "#             xticklabels=corr.columns.values,\n",
    "#             yticklabels=corr.columns.values) \n",
    "# plt.show()"
   ]
  },
  {
   "cell_type": "markdown",
   "metadata": {},
   "source": [
    "# Data Preparation"
   ]
  },
  {
   "cell_type": "code",
   "execution_count": 611,
   "metadata": {},
   "outputs": [
    {
     "name": "stdout",
     "output_type": "stream",
     "text": [
      "   Survived  Pclass     Sex   Age     Fare Embarked  hasFamily\n",
      "0         0       3    male  22.0   7.2500        S          1\n",
      "1         1       1  female  38.0  71.2833        C          1\n",
      "2         1       3  female  26.0   7.9250        S          0\n",
      "3         1       1  female  35.0  53.1000        S          1\n",
      "4         0       3    male  35.0   8.0500        S          0\n"
     ]
    },
    {
     "data": {
      "text/plain": [
       "(891, 7)"
      ]
     },
     "execution_count": 611,
     "metadata": {},
     "output_type": "execute_result"
    }
   ],
   "source": [
    "# 1. SibSp & Parch (Regularization (Curse of Dimension)?)\n",
    "df['hasFamily'] = np.where((df['SibSp'] <= 0) & (df['Parch'] <= 0), 0, 1)\n",
    "df = df.drop(['SibSp', 'Parch'], 1)\n",
    "print(df.head())\n",
    "df.shape"
   ]
  },
  {
   "cell_type": "code",
   "execution_count": 612,
   "metadata": {},
   "outputs": [
    {
     "name": "stdout",
     "output_type": "stream",
     "text": [
      "   Survived  Pclass     Sex   Age Embarked  hasFamily Fare_Group\n",
      "0         0       3    male  22.0        S          1          1\n",
      "1         1       1  female  38.0        C          1          5\n",
      "2         1       3  female  26.0        S          0          1\n",
      "3         1       1  female  35.0        S          1          4\n",
      "4         0       3    male  35.0        S          0          1\n"
     ]
    },
    {
     "data": {
      "text/plain": [
       "(891, 7)"
      ]
     },
     "execution_count": 612,
     "metadata": {},
     "output_type": "execute_result"
    }
   ],
   "source": [
    "# 2. Group Fare\n",
    "fare_bins=[0,10,20,40,60,80,100,200,600]\n",
    "fare_labels=[1,2,3,4,5,6,7,8]\n",
    "df['Fare_Group'] = pd.cut(df['Fare'], bins=fare_bins, labels=fare_labels, right=False)\n",
    "df = df.drop('Fare', 1)\n",
    "print(df.head())\n",
    "df.shape"
   ]
  },
  {
   "cell_type": "code",
   "execution_count": 613,
   "metadata": {},
   "outputs": [
    {
     "name": "stdout",
     "output_type": "stream",
     "text": [
      "   Survived  Pclass     Sex Embarked  hasFamily Fare_Group Age_Group\n",
      "0         0       3    male        S          1          1     Adult\n",
      "1         1       1  female        C          1          5     Adult\n",
      "2         1       3  female        S          0          1     Adult\n",
      "3         1       1  female        S          1          4     Adult\n",
      "4         0       3    male        S          0          1     Adult\n"
     ]
    },
    {
     "data": {
      "text/plain": [
       "(891, 7)"
      ]
     },
     "execution_count": 613,
     "metadata": {},
     "output_type": "execute_result"
    }
   ],
   "source": [
    "# 3. Age (delete OR group)\n",
    "df.Age.replace('', np.nan, inplace=True)\n",
    "df['Age'] = df['Age'].fillna(-1)\n",
    "# df = df.dropna()\n",
    "\n",
    "age_bins=[-1,0,3,13,20,60,120]\n",
    "age_labels=['Unknown','Baby','Children','Teenager','Adult','Elderly']\n",
    "# age_bins=[0,3,13,20,60,120]\n",
    "# age_labels=['Baby','Children','Teenager','Adult','Elderly']\n",
    "# age_labels=[1,2,3,4,5,6]\n",
    "df['Age_Group'] = pd.cut(df['Age'], bins=age_bins, labels=age_labels, right=False)\n",
    "df = df.drop('Age', 1)\n",
    "print(df.head())\n",
    "df.shape"
   ]
  },
  {
   "cell_type": "code",
   "execution_count": 614,
   "metadata": {
    "scrolled": true
   },
   "outputs": [],
   "source": [
    "# df.info()\n",
    "\n",
    "# df.Fare_Group = df.Fare_Group.astype('int64')\n",
    "# df.Age_Group = df.Age_Group.astype('int64')\n",
    "# df.info()\n",
    "\n",
    "# sns.pairplot(df, hue=\"Survived\", height=2)\n",
    "# plt.show()"
   ]
  },
  {
   "cell_type": "code",
   "execution_count": 615,
   "metadata": {},
   "outputs": [
    {
     "name": "stdout",
     "output_type": "stream",
     "text": [
      "(889, 7)\n"
     ]
    }
   ],
   "source": [
    "# 4. Embarked\n",
    "from sklearn.preprocessing import OneHotEncoder\n",
    "\n",
    "ohe = OneHotEncoder()\n",
    "df = df[df['Embarked'].notna()]\n",
    "ohe.fit_transform(df[\"Embarked\"].values.reshape(-1,1)).toarray()\n",
    "print(df.shape)"
   ]
  },
  {
   "cell_type": "code",
   "execution_count": 616,
   "metadata": {},
   "outputs": [],
   "source": [
    "# # 5. Sex (Encoding)\n",
    "# from sklearn.preprocessing import OneHotEncoder\n",
    "\n",
    "# ohe = OneHotEncoder()\n",
    "# ohe.fit_transform(df[\"Sex\"].values.reshape(-1,1)).toarray()\n",
    "# print(df.shape)"
   ]
  },
  {
   "cell_type": "code",
   "execution_count": 617,
   "metadata": {},
   "outputs": [
    {
     "name": "stdout",
     "output_type": "stream",
     "text": [
      "   Survived  Pclass  hasFamily  Sex_male  Embarked_C  Embarked_Q  Embarked_S  \\\n",
      "0         0       3          1         1           0           0           1   \n",
      "1         1       1          1         0           1           0           0   \n",
      "2         1       3          0         0           0           0           1   \n",
      "3         1       1          1         0           0           0           1   \n",
      "4         0       3          0         1           0           0           1   \n",
      "\n",
      "   Fare_Group_1  Fare_Group_2  Fare_Group_3  ...  Fare_Group_5  Fare_Group_6  \\\n",
      "0             1             0             0  ...             0             0   \n",
      "1             0             0             0  ...             1             0   \n",
      "2             1             0             0  ...             0             0   \n",
      "3             0             0             0  ...             0             0   \n",
      "4             1             0             0  ...             0             0   \n",
      "\n",
      "   Fare_Group_7  Fare_Group_8  Age_Group_Unknown  Age_Group_Baby  \\\n",
      "0             0             0                  0               0   \n",
      "1             0             0                  0               0   \n",
      "2             0             0                  0               0   \n",
      "3             0             0                  0               0   \n",
      "4             0             0                  0               0   \n",
      "\n",
      "   Age_Group_Children  Age_Group_Teenager  Age_Group_Adult  Age_Group_Elderly  \n",
      "0                   0                   0                1                  0  \n",
      "1                   0                   0                1                  0  \n",
      "2                   0                   0                1                  0  \n",
      "3                   0                   0                1                  0  \n",
      "4                   0                   0                1                  0  \n",
      "\n",
      "[5 rows x 21 columns]\n"
     ]
    },
    {
     "data": {
      "text/plain": [
       "(889, 21)"
      ]
     },
     "execution_count": 617,
     "metadata": {},
     "output_type": "execute_result"
    }
   ],
   "source": [
    "# 5. Sex (Encoding)\n",
    "df = pd.get_dummies(df)\n",
    "df = df.drop('Sex_female', 1)\n",
    "print(df.head())\n",
    "df.shape"
   ]
  },
  {
   "cell_type": "code",
   "execution_count": 618,
   "metadata": {},
   "outputs": [],
   "source": [
    "# df = pd.get_dummies(df)\n",
    "# print(df.head())\n",
    "# df.shape"
   ]
  },
  {
   "cell_type": "markdown",
   "metadata": {},
   "source": [
    "# Train Test Split Data"
   ]
  },
  {
   "cell_type": "code",
   "execution_count": 619,
   "metadata": {},
   "outputs": [
    {
     "name": "stdout",
     "output_type": "stream",
     "text": [
      "<class 'pandas.core.frame.DataFrame'>\n",
      "Int64Index: 889 entries, 0 to 890\n",
      "Data columns (total 21 columns):\n",
      " #   Column              Non-Null Count  Dtype\n",
      "---  ------              --------------  -----\n",
      " 0   Survived            889 non-null    int64\n",
      " 1   Pclass              889 non-null    int64\n",
      " 2   hasFamily           889 non-null    int32\n",
      " 3   Sex_male            889 non-null    uint8\n",
      " 4   Embarked_C          889 non-null    uint8\n",
      " 5   Embarked_Q          889 non-null    uint8\n",
      " 6   Embarked_S          889 non-null    uint8\n",
      " 7   Fare_Group_1        889 non-null    uint8\n",
      " 8   Fare_Group_2        889 non-null    uint8\n",
      " 9   Fare_Group_3        889 non-null    uint8\n",
      " 10  Fare_Group_4        889 non-null    uint8\n",
      " 11  Fare_Group_5        889 non-null    uint8\n",
      " 12  Fare_Group_6        889 non-null    uint8\n",
      " 13  Fare_Group_7        889 non-null    uint8\n",
      " 14  Fare_Group_8        889 non-null    uint8\n",
      " 15  Age_Group_Unknown   889 non-null    uint8\n",
      " 16  Age_Group_Baby      889 non-null    uint8\n",
      " 17  Age_Group_Children  889 non-null    uint8\n",
      " 18  Age_Group_Teenager  889 non-null    uint8\n",
      " 19  Age_Group_Adult     889 non-null    uint8\n",
      " 20  Age_Group_Elderly   889 non-null    uint8\n",
      "dtypes: int32(1), int64(2), uint8(18)\n",
      "memory usage: 39.9 KB\n"
     ]
    }
   ],
   "source": [
    "from sklearn.model_selection import train_test_split\n",
    "\n",
    "df.info()\n",
    "X = df.drop('Survived', axis=1)\n",
    "y = df['Survived']\n",
    "\n",
    "X_train, X_test, y_train, y_test = train_test_split(X, y, test_size=0.2, random_state=42)"
   ]
  },
  {
   "cell_type": "markdown",
   "metadata": {},
   "source": [
    "# Train & Score Model"
   ]
  },
  {
   "cell_type": "code",
   "execution_count": 620,
   "metadata": {},
   "outputs": [
    {
     "name": "stdout",
     "output_type": "stream",
     "text": [
      "                  Algorithm accuracy_score(train) accuracy_score(test)  \\\n",
      "0      LogisticRegression()                80.03%               75.28%   \n",
      "1    KNeighborsClassifier()                83.68%               81.46%   \n",
      "2              GaussianNB()                70.60%               70.79%   \n",
      "3  DecisionTreeClassifier()                87.90%               80.34%   \n",
      "4                     SVC()                82.98%               82.02%   \n",
      "5               LinearSVC()                80.45%               76.97%   \n",
      "\n",
      "  roc_auc_score(train) roc_auc_score(test)      Confusion Matrix  \n",
      "0                 0.78                0.76  [[80, 29], [15, 54]]  \n",
      "1                 0.82                0.81  [[90, 19], [14, 55]]  \n",
      "2                 0.66                0.67  [[92, 17], [35, 34]]  \n",
      "3                 0.86                0.79  [[92, 17], [18, 51]]  \n",
      "4                 0.80                0.81  [[93, 16], [16, 53]]  \n",
      "5                 0.79                0.77  [[83, 26], [15, 54]]  \n"
     ]
    }
   ],
   "source": [
    "# import 5 different models\n",
    "from sklearn.linear_model import LogisticRegression\n",
    "from sklearn.neighbors import KNeighborsClassifier\n",
    "from sklearn.naive_bayes import GaussianNB\n",
    "from sklearn.tree import DecisionTreeClassifier\n",
    "from sklearn.svm import SVC\n",
    "from sklearn.svm import LinearSVC\n",
    "\n",
    "# import different metrics\n",
    "from sklearn.metrics import accuracy_score\n",
    "from sklearn.metrics import roc_auc_score\n",
    "from sklearn.metrics import confusion_matrix\n",
    "\n",
    "# Assign 5 models into arrays\n",
    "models = [LogisticRegression(), \n",
    "          KNeighborsClassifier(), \n",
    "          GaussianNB(), \n",
    "          DecisionTreeClassifier(), \n",
    "          SVC(),\n",
    "          LinearSVC()]\n",
    "\n",
    "#Loop models and compile score into table\n",
    "rows = []\n",
    "for i in models:\n",
    "    # Fit Training Data to model selected\n",
    "    model = i\n",
    "    model.fit(X_train, y_train)\n",
    "    \n",
    "    # Predict Train Data\n",
    "    y_predict_train_data = model.predict(X_train)\n",
    "    x_train_accuracy_score = accuracy_score(y_train, y_predict_train_data)\n",
    "    x_train_auc_score = roc_auc_score(y_train, y_predict_train_data)\n",
    "\n",
    "    # Predict Test Data\n",
    "    y_predict_test_data = model.predict(X_test)\n",
    "    x_test_accuracy_score = accuracy_score(y_test, y_predict_test_data)\n",
    "    x_test_auc_score = roc_auc_score(y_test, y_predict_test_data)\n",
    "\n",
    "    # Calculate Confusion_Matrix\n",
    "    cm = confusion_matrix(y_test, y_predict_test_data)\n",
    "\n",
    "    rows.append([i, \n",
    "                 \"{:.2f}%\".format(x_train_accuracy_score*100), \n",
    "                 \"{:.2f}%\".format(x_test_accuracy_score*100), \n",
    "                 \"{:.2f}\".format(x_train_auc_score), \n",
    "                 \"{:.2f}\".format(x_test_auc_score), \n",
    "                 cm])\n",
    "\n",
    "# Display summary result\n",
    "summary_table = pd.DataFrame(rows, columns=[\"Algorithm\", \n",
    "                                            \"accuracy_score(train)\", \n",
    "                                            \"accuracy_score(test)\", \n",
    "                                            \"roc_auc_score(train)\", \n",
    "                                            \"roc_auc_score(test)\", \n",
    "                                            \"Confusion Matrix\"])\n",
    "print(summary_table)"
   ]
  },
  {
   "cell_type": "markdown",
   "metadata": {},
   "source": [
    "# Evaluate Model"
   ]
  },
  {
   "cell_type": "code",
   "execution_count": 621,
   "metadata": {},
   "outputs": [],
   "source": [
    "# from sklearn.metrics import confusion_matrix\n",
    "# cm = confusion_matrix(y_test, y_predict)\n",
    "# print(cm)"
   ]
  },
  {
   "cell_type": "code",
   "execution_count": 622,
   "metadata": {},
   "outputs": [],
   "source": [
    "# from sklearn.metrics import plot_confusion_matrix\n",
    "\n",
    "# for i in models:\n",
    "#     # Fit Training Data to model selected\n",
    "#     model = i\n",
    "    \n",
    "#     plot_confusion_matrix(model, X_test, y_test)\n",
    "#     plt.title(model)\n",
    "#     plt.show()"
   ]
  },
  {
   "cell_type": "code",
   "execution_count": 623,
   "metadata": {},
   "outputs": [],
   "source": [
    "# from sklearn.metrics import classification_report\n",
    "\n",
    "# for i in models:\n",
    "#     # Fit Training Data to model selected\n",
    "#     model = i\n",
    "#     model.fit(X_train, y_train)\n",
    "\n",
    "#     # Predict Test Data\n",
    "#     y_predict = model.predict(X_test)\n",
    "    \n",
    "#     print(classification_report(y_test, y_predict))\n",
    "    "
   ]
  },
  {
   "cell_type": "markdown",
   "metadata": {},
   "source": [
    "# Cross Validation & GridSearchCV"
   ]
  },
  {
   "cell_type": "markdown",
   "metadata": {},
   "source": [
    "## 1. Top Score - SVC()"
   ]
  },
  {
   "cell_type": "code",
   "execution_count": 624,
   "metadata": {},
   "outputs": [],
   "source": [
    "# svm = SVC()\n",
    "# svm.fit(X_train, y_train)\n",
    "# svm.predict(X_train)\n",
    "# svm.score(X_train, y_train)"
   ]
  },
  {
   "cell_type": "code",
   "execution_count": 625,
   "metadata": {},
   "outputs": [],
   "source": [
    "# svm.score(X_test, y_test)"
   ]
  },
  {
   "cell_type": "code",
   "execution_count": 626,
   "metadata": {},
   "outputs": [
    {
     "name": "stdout",
     "output_type": "stream",
     "text": [
      "{'C': array([1.e-03, 1.e-02, 1.e-01, 1.e+00, 1.e+01, 1.e+02, 1.e+03])}\n"
     ]
    }
   ],
   "source": [
    "from sklearn.model_selection import GridSearchCV\n",
    "\n",
    "svm = SVC()\n",
    "param_grid = {'C': 10. ** np.arange(-3, 4)}\n",
    "print(param_grid)\n",
    "grid_search = GridSearchCV(svm, param_grid=param_grid, cv=3, verbose=3, return_train_score=True)"
   ]
  },
  {
   "cell_type": "code",
   "execution_count": 627,
   "metadata": {},
   "outputs": [
    {
     "name": "stdout",
     "output_type": "stream",
     "text": [
      "Fitting 3 folds for each of 7 candidates, totalling 21 fits\n",
      "[CV] C=0.001 .........................................................\n",
      "[CV] ......... C=0.001, score=(train=0.620, test=0.616), total=   0.0s\n",
      "[CV] C=0.001 .........................................................\n",
      "[CV] ......... C=0.001, score=(train=0.618, test=0.620), total=   0.0s\n",
      "[CV] C=0.001 .........................................................\n",
      "[CV] ......... C=0.001, score=(train=0.618, test=0.620), total=   0.0s\n",
      "[CV] C=0.01 ..........................................................\n",
      "[CV] .......... C=0.01, score=(train=0.620, test=0.616), total=   0.0s\n",
      "[CV] C=0.01 ..........................................................\n"
     ]
    },
    {
     "name": "stderr",
     "output_type": "stream",
     "text": [
      "[Parallel(n_jobs=1)]: Using backend SequentialBackend with 1 concurrent workers.\n",
      "[Parallel(n_jobs=1)]: Done   1 out of   1 | elapsed:    0.0s remaining:    0.0s\n",
      "[Parallel(n_jobs=1)]: Done   2 out of   2 | elapsed:    0.0s remaining:    0.0s\n"
     ]
    },
    {
     "name": "stdout",
     "output_type": "stream",
     "text": [
      "[CV] .......... C=0.01, score=(train=0.618, test=0.620), total=   0.0s\n",
      "[CV] C=0.01 ..........................................................\n",
      "[CV] .......... C=0.01, score=(train=0.618, test=0.620), total=   0.0s\n",
      "[CV] C=0.1 ...........................................................\n",
      "[CV] ........... C=0.1, score=(train=0.793, test=0.755), total=   0.0s\n",
      "[CV] C=0.1 ...........................................................\n",
      "[CV] ........... C=0.1, score=(train=0.781, test=0.797), total=   0.0s\n",
      "[CV] C=0.1 ...........................................................\n",
      "[CV] ........... C=0.1, score=(train=0.787, test=0.747), total=   0.0s\n",
      "[CV] C=1.0 ...........................................................\n",
      "[CV] ........... C=1.0, score=(train=0.831, test=0.802), total=   0.0s\n",
      "[CV] C=1.0 ...........................................................\n",
      "[CV] ........... C=1.0, score=(train=0.812, test=0.806), total=   0.0s\n",
      "[CV] C=1.0 ...........................................................\n",
      "[CV] ........... C=1.0, score=(train=0.816, test=0.819), total=   0.0s\n",
      "[CV] C=10.0 ..........................................................\n",
      "[CV] .......... C=10.0, score=(train=0.871, test=0.802), total=   0.0s\n",
      "[CV] C=10.0 ..........................................................\n",
      "[CV] .......... C=10.0, score=(train=0.857, test=0.823), total=   0.0s\n",
      "[CV] C=10.0 ..........................................................\n",
      "[CV] .......... C=10.0, score=(train=0.880, test=0.789), total=   0.0s\n",
      "[CV] C=100.0 .........................................................\n",
      "[CV] ......... C=100.0, score=(train=0.892, test=0.806), total=   0.0s\n",
      "[CV] C=100.0 .........................................................\n",
      "[CV] ......... C=100.0, score=(train=0.876, test=0.810), total=   0.0s\n",
      "[CV] C=100.0 .........................................................\n",
      "[CV] ......... C=100.0, score=(train=0.892, test=0.802), total=   0.0s\n",
      "[CV] C=1000.0 ........................................................\n",
      "[CV] ........ C=1000.0, score=(train=0.895, test=0.810), total=   0.0s\n",
      "[CV] C=1000.0 ........................................................\n",
      "[CV] ........ C=1000.0, score=(train=0.878, test=0.806), total=   0.0s\n",
      "[CV] C=1000.0 ........................................................\n",
      "[CV] ........ C=1000.0, score=(train=0.895, test=0.806), total=   0.0s\n"
     ]
    },
    {
     "name": "stderr",
     "output_type": "stream",
     "text": [
      "[Parallel(n_jobs=1)]: Done  21 out of  21 | elapsed:    0.5s finished\n"
     ]
    }
   ],
   "source": [
    "grid_search.fit(X_train, y_train);"
   ]
  },
  {
   "cell_type": "code",
   "execution_count": 628,
   "metadata": {},
   "outputs": [
    {
     "name": "stdout",
     "output_type": "stream",
     "text": [
      "{'C': 1.0}\n",
      "0.8087201125175808\n"
     ]
    }
   ],
   "source": [
    "print(grid_search.best_params_)\n",
    "print(grid_search.best_score_)"
   ]
  },
  {
   "cell_type": "code",
   "execution_count": 629,
   "metadata": {},
   "outputs": [
    {
     "data": {
      "image/png": "[encoded data removed]",
      "text/plain": [
       "<Figure size 864x432 with 1 Axes>"
      ]
     },
     "metadata": {
      "needs_background": "light"
     },
     "output_type": "display_data"
    }
   ],
   "source": [
    "plt.figure(figsize=(12, 6))\n",
    "validation_score = grid_search.cv_results_[\"mean_test_score\"]\n",
    "train_score = grid_search.cv_results_[\"mean_train_score\"]\n",
    "plt.plot(validation_score, label=\"validation\")\n",
    "plt.plot(train_score, label=\"training\")\n",
    "plt.xticks(np.arange(7), param_grid['C']); plt.xlabel(\"C\"); plt.ylabel(\"Accuracy\");plt.legend(loc='best');"
   ]
  },
  {
   "cell_type": "markdown",
   "metadata": {},
   "source": [
    "## 2. Top Score - KNeighborsClassifier()"
   ]
  },
  {
   "cell_type": "code",
   "execution_count": 630,
   "metadata": {},
   "outputs": [],
   "source": [
    "# knn = KNeighborsClassifier()\n",
    "# knn.fit(X_train, y_train)\n",
    "# knn.predict(X_train)\n",
    "# knn.score(X_train, y_train)"
   ]
  },
  {
   "cell_type": "code",
   "execution_count": 631,
   "metadata": {},
   "outputs": [],
   "source": [
    "# knn.score(X_test, y_test)"
   ]
  },
  {
   "cell_type": "code",
   "execution_count": 632,
   "metadata": {},
   "outputs": [],
   "source": [
    "from sklearn.model_selection import GridSearchCV\n",
    "\n",
    "knn = KNeighborsClassifier()\n",
    "param_grid = {'n_neighbors': [1,2,3,4,5,6,7,8,9]}\n",
    "grid_search = GridSearchCV(knn, param_grid=param_grid, cv=5, verbose=3, return_train_score=True)"
   ]
  },
  {
   "cell_type": "code",
   "execution_count": 633,
   "metadata": {},
   "outputs": [
    {
     "name": "stdout",
     "output_type": "stream",
     "text": [
      "Fitting 5 folds for each of 9 candidates, totalling 45 fits\n",
      "[CV] n_neighbors=1 ...................................................\n",
      "[CV] ... n_neighbors=1, score=(train=0.859, test=0.783), total=   0.0s\n",
      "[CV] n_neighbors=1 ...................................................\n",
      "[CV] ... n_neighbors=1, score=(train=0.849, test=0.768), total=   0.0s\n",
      "[CV] n_neighbors=1 ...................................................\n",
      "[CV] ... n_neighbors=1, score=(train=0.831, test=0.838), total=   0.0s\n",
      "[CV] n_neighbors=1 ...................................................\n"
     ]
    },
    {
     "name": "stderr",
     "output_type": "stream",
     "text": [
      "[Parallel(n_jobs=1)]: Using backend SequentialBackend with 1 concurrent workers.\n",
      "[Parallel(n_jobs=1)]: Done   1 out of   1 | elapsed:    0.0s remaining:    0.0s\n",
      "[Parallel(n_jobs=1)]: Done   2 out of   2 | elapsed:    0.0s remaining:    0.0s\n"
     ]
    },
    {
     "name": "stdout",
     "output_type": "stream",
     "text": [
      "[CV] ... n_neighbors=1, score=(train=0.868, test=0.725), total=   0.0s\n",
      "[CV] n_neighbors=1 ...................................................\n",
      "[CV] ... n_neighbors=1, score=(train=0.838, test=0.725), total=   0.0s\n",
      "[CV] n_neighbors=2 ...................................................\n",
      "[CV] ... n_neighbors=2, score=(train=0.849, test=0.783), total=   0.0s\n",
      "[CV] n_neighbors=2 ...................................................\n",
      "[CV] ... n_neighbors=2, score=(train=0.833, test=0.775), total=   0.0s\n",
      "[CV] n_neighbors=2 ...................................................\n",
      "[CV] ... n_neighbors=2, score=(train=0.819, test=0.789), total=   0.0s\n",
      "[CV] n_neighbors=2 ...................................................\n",
      "[CV] ... n_neighbors=2, score=(train=0.814, test=0.711), total=   0.0s\n",
      "[CV] n_neighbors=2 ...................................................\n",
      "[CV] ... n_neighbors=2, score=(train=0.833, test=0.761), total=   0.0s\n",
      "[CV] n_neighbors=3 ...................................................\n",
      "[CV] ... n_neighbors=3, score=(train=0.856, test=0.790), total=   0.0s\n",
      "[CV] n_neighbors=3 ...................................................\n",
      "[CV] ... n_neighbors=3, score=(train=0.838, test=0.761), total=   0.0s\n",
      "[CV] n_neighbors=3 ...................................................\n",
      "[CV] ... n_neighbors=3, score=(train=0.852, test=0.803), total=   0.0s\n",
      "[CV] n_neighbors=3 ...................................................\n",
      "[CV] ... n_neighbors=3, score=(train=0.847, test=0.803), total=   0.0s\n",
      "[CV] n_neighbors=3 ...................................................\n",
      "[CV] ... n_neighbors=3, score=(train=0.835, test=0.718), total=   0.0s\n",
      "[CV] n_neighbors=4 ...................................................\n",
      "[CV] ... n_neighbors=4, score=(train=0.845, test=0.776), total=   0.0s\n",
      "[CV] n_neighbors=4 ...................................................\n",
      "[CV] ... n_neighbors=4, score=(train=0.824, test=0.746), total=   0.0s\n",
      "[CV] n_neighbors=4 ...................................................\n",
      "[CV] ... n_neighbors=4, score=(train=0.840, test=0.796), total=   0.0s\n",
      "[CV] n_neighbors=4 ...................................................\n",
      "[CV] ... n_neighbors=4, score=(train=0.830, test=0.782), total=   0.0s\n",
      "[CV] n_neighbors=4 ...................................................\n",
      "[CV] ... n_neighbors=4, score=(train=0.835, test=0.739), total=   0.0s\n",
      "[CV] n_neighbors=5 ...................................................\n",
      "[CV] ... n_neighbors=5, score=(train=0.831, test=0.783), total=   0.0s\n",
      "[CV] n_neighbors=5 ...................................................\n",
      "[CV] ... n_neighbors=5, score=(train=0.833, test=0.754), total=   0.0s\n",
      "[CV] n_neighbors=5 ...................................................\n",
      "[CV] ... n_neighbors=5, score=(train=0.835, test=0.768), total=   0.0s\n",
      "[CV] n_neighbors=5 ...................................................\n",
      "[CV] ... n_neighbors=5, score=(train=0.817, test=0.782), total=   0.0s\n",
      "[CV] n_neighbors=5 ...................................................\n",
      "[CV] ... n_neighbors=5, score=(train=0.844, test=0.768), total=   0.0s\n",
      "[CV] n_neighbors=6 ...................................................\n",
      "[CV] ... n_neighbors=6, score=(train=0.842, test=0.804), total=   0.0s\n",
      "[CV] n_neighbors=6 ...................................................\n",
      "[CV] ... n_neighbors=6, score=(train=0.822, test=0.789), total=   0.0s\n",
      "[CV] n_neighbors=6 ...................................................\n",
      "[CV] ... n_neighbors=6, score=(train=0.826, test=0.810), total=   0.0s\n",
      "[CV] n_neighbors=6 ...................................................\n",
      "[CV] ... n_neighbors=6, score=(train=0.812, test=0.761), total=   0.0s\n",
      "[CV] n_neighbors=6 ...................................................\n",
      "[CV] ... n_neighbors=6, score=(train=0.810, test=0.775), total=   0.0s\n",
      "[CV] n_neighbors=7 ...................................................\n",
      "[CV] ... n_neighbors=7, score=(train=0.826, test=0.797), total=   0.0s\n",
      "[CV] n_neighbors=7 ...................................................\n",
      "[CV] ... n_neighbors=7, score=(train=0.808, test=0.768), total=   0.0s\n",
      "[CV] n_neighbors=7 ...................................................\n",
      "[CV] ... n_neighbors=7, score=(train=0.831, test=0.803), total=   0.0s\n",
      "[CV] n_neighbors=7 ...................................................\n",
      "[CV] ... n_neighbors=7, score=(train=0.807, test=0.754), total=   0.0s\n",
      "[CV] n_neighbors=7 ...................................................\n",
      "[CV] ... n_neighbors=7, score=(train=0.826, test=0.775), total=   0.0s\n",
      "[CV] n_neighbors=8 ...................................................\n",
      "[CV] ... n_neighbors=8, score=(train=0.831, test=0.797), total=   0.0s\n",
      "[CV] n_neighbors=8 ...................................................\n",
      "[CV] ... n_neighbors=8, score=(train=0.814, test=0.796), total=   0.0s\n",
      "[CV] n_neighbors=8 ...................................................\n",
      "[CV] ... n_neighbors=8, score=(train=0.814, test=0.810), total=   0.0s\n",
      "[CV] n_neighbors=8 ...................................................\n",
      "[CV] ... n_neighbors=8, score=(train=0.794, test=0.754), total=   0.0s\n",
      "[CV] n_neighbors=8 ...................................................\n",
      "[CV] ... n_neighbors=8, score=(train=0.819, test=0.789), total=   0.0s\n",
      "[CV] n_neighbors=9 ...................................................\n",
      "[CV] ... n_neighbors=9, score=(train=0.817, test=0.811), total=   0.0s\n",
      "[CV] n_neighbors=9 ...................................................\n",
      "[CV] ... n_neighbors=9, score=(train=0.819, test=0.789), total=   0.0s\n",
      "[CV] n_neighbors=9 ...................................................\n",
      "[CV] ... n_neighbors=9, score=(train=0.817, test=0.796), total=   0.0s\n",
      "[CV] n_neighbors=9 ...................................................\n",
      "[CV] ... n_neighbors=9, score=(train=0.803, test=0.782), total=   0.0s\n",
      "[CV] n_neighbors=9 ...................................................\n",
      "[CV] ... n_neighbors=9, score=(train=0.808, test=0.739), total=   0.0s\n"
     ]
    },
    {
     "name": "stderr",
     "output_type": "stream",
     "text": [
      "[Parallel(n_jobs=1)]: Done  45 out of  45 | elapsed:    2.4s finished\n"
     ]
    }
   ],
   "source": [
    "grid_search.fit(X_train, y_train);"
   ]
  },
  {
   "cell_type": "code",
   "execution_count": 634,
   "metadata": {},
   "outputs": [
    {
     "name": "stdout",
     "output_type": "stream",
     "text": [
      "{'n_neighbors': 8}\n",
      "0.7890180242292918\n"
     ]
    }
   ],
   "source": [
    "print(grid_search.best_params_)\n",
    "print(grid_search.best_score_)"
   ]
  },
  {
   "cell_type": "code",
   "execution_count": 635,
   "metadata": {},
   "outputs": [
    {
     "data": {
      "image/png": "[encoded data removed]",
      "text/plain": [
       "<Figure size 864x432 with 1 Axes>"
      ]
     },
     "metadata": {
      "needs_background": "light"
     },
     "output_type": "display_data"
    }
   ],
   "source": [
    "plt.figure(figsize=(12, 6))\n",
    "validation_score = grid_search.cv_results_[\"mean_test_score\"]\n",
    "train_score = grid_search.cv_results_[\"mean_train_score\"]\n",
    "plt.plot(validation_score, label=\"validation\")\n",
    "plt.plot(train_score, label=\"training\")\n",
    "plt.xticks(np.arange(9), param_grid['n_neighbors']); plt.xlabel(\"n_neighbors\"); plt.ylabel(\"Accuracy\");plt.legend(loc='best');"
   ]
  },
  {
   "cell_type": "code",
   "execution_count": 636,
   "metadata": {},
   "outputs": [],
   "source": [
    "from sklearn.model_selection import GridSearchCV\n",
    "\n",
    "linreg = LogisticRegression()\n",
    "param_grid = {'penalty': ['none','l1','l2','elasticnet']}\n",
    "grid_search = GridSearchCV(linreg, param_grid=param_grid, cv=3, verbose=3, return_train_score=True)"
   ]
  },
  {
   "cell_type": "code",
   "execution_count": 637,
   "metadata": {},
   "outputs": [
    {
     "name": "stdout",
     "output_type": "stream",
     "text": [
      "Fitting 3 folds for each of 4 candidates, totalling 12 fits\n",
      "[CV] penalty=none ....................................................\n",
      "[CV] .... penalty=none, score=(train=0.797, test=0.785), total=   0.0s\n",
      "[CV] penalty=none ....................................................\n",
      "[CV] .... penalty=none, score=(train=0.791, test=0.814), total=   0.0s\n",
      "[CV] penalty=none ....................................................\n",
      "[CV] .... penalty=none, score=(train=0.823, test=0.789), total=   0.0s\n",
      "[CV] penalty=l1 ......................................................\n",
      "[CV] .......... penalty=l1, score=(train=nan, test=nan), total=   0.0s\n",
      "[CV] penalty=l1 ......................................................\n",
      "[CV] .......... penalty=l1, score=(train=nan, test=nan), total=   0.0s\n",
      "[CV] penalty=l1 ......................................................\n",
      "[CV] .......... penalty=l1, score=(train=nan, test=nan), total=   0.0s\n",
      "[CV] penalty=l2 ......................................................\n",
      "[CV] ...... penalty=l2, score=(train=0.804, test=0.781), total=   0.0s\n",
      "[CV] penalty=l2 ......................................................\n",
      "[CV] ...... penalty=l2, score=(train=0.787, test=0.797), total=   0.0s\n",
      "[CV] penalty=l2 ......................................................\n",
      "[CV] ...... penalty=l2, score=(train=0.823, test=0.797), total=   0.0s\n",
      "[CV] penalty=elasticnet ..............................................\n",
      "[CV] .. penalty=elasticnet, score=(train=nan, test=nan), total=   0.0s\n",
      "[CV] penalty=elasticnet ..............................................\n",
      "[CV] .. penalty=elasticnet, score=(train=nan, test=nan), total=   0.0s\n",
      "[CV] penalty=elasticnet ..............................................\n",
      "[CV] .. penalty=elasticnet, score=(train=nan, test=nan), total=   0.0s\n"
     ]
    },
    {
     "name": "stderr",
     "output_type": "stream",
     "text": [
      "[Parallel(n_jobs=1)]: Using backend SequentialBackend with 1 concurrent workers.\n",
      "[Parallel(n_jobs=1)]: Done   1 out of   1 | elapsed:    0.0s remaining:    0.0s\n",
      "[Parallel(n_jobs=1)]: Done   2 out of   2 | elapsed:    0.0s remaining:    0.0s\n",
      "C:\\ProgramData\\Anaconda3\\lib\\site-packages\\sklearn\\model_selection\\_validation.py:548: FitFailedWarning: Estimator fit failed. The score on this train-test partition for these parameters will be set to nan. Details: \n",
      "Traceback (most recent call last):\n",
      "  File \"C:\\ProgramData\\Anaconda3\\lib\\site-packages\\sklearn\\model_selection\\_validation.py\", line 531, in _fit_and_score\n",
      "    estimator.fit(X_train, y_train, **fit_params)\n",
      "  File \"C:\\ProgramData\\Anaconda3\\lib\\site-packages\\sklearn\\linear_model\\_logistic.py\", line 1304, in fit\n",
      "    solver = _check_solver(self.solver, self.penalty, self.dual)\n",
      "  File \"C:\\ProgramData\\Anaconda3\\lib\\site-packages\\sklearn\\linear_model\\_logistic.py\", line 442, in _check_solver\n",
      "    raise ValueError(\"Solver %s supports only 'l2' or 'none' penalties, \"\n",
      "ValueError: Solver lbfgs supports only 'l2' or 'none' penalties, got l1 penalty.\n",
      "\n",
      "  warnings.warn(\"Estimator fit failed. The score on this train-test\"\n",
      "C:\\ProgramData\\Anaconda3\\lib\\site-packages\\sklearn\\model_selection\\_validation.py:548: FitFailedWarning: Estimator fit failed. The score on this train-test partition for these parameters will be set to nan. Details: \n",
      "Traceback (most recent call last):\n",
      "  File \"C:\\ProgramData\\Anaconda3\\lib\\site-packages\\sklearn\\model_selection\\_validation.py\", line 531, in _fit_and_score\n",
      "    estimator.fit(X_train, y_train, **fit_params)\n",
      "  File \"C:\\ProgramData\\Anaconda3\\lib\\site-packages\\sklearn\\linear_model\\_logistic.py\", line 1304, in fit\n",
      "    solver = _check_solver(self.solver, self.penalty, self.dual)\n",
      "  File \"C:\\ProgramData\\Anaconda3\\lib\\site-packages\\sklearn\\linear_model\\_logistic.py\", line 442, in _check_solver\n",
      "    raise ValueError(\"Solver %s supports only 'l2' or 'none' penalties, \"\n",
      "ValueError: Solver lbfgs supports only 'l2' or 'none' penalties, got elasticnet penalty.\n",
      "\n",
      "  warnings.warn(\"Estimator fit failed. The score on this train-test\"\n",
      "[Parallel(n_jobs=1)]: Done  12 out of  12 | elapsed:    0.1s finished\n"
     ]
    }
   ],
   "source": [
    "grid_search.fit(X_train, y_train);"
   ]
  },
  {
   "cell_type": "code",
   "execution_count": 638,
   "metadata": {},
   "outputs": [
    {
     "name": "stdout",
     "output_type": "stream",
     "text": [
      "{'penalty': 'none'}\n",
      "0.7960618846694797\n"
     ]
    }
   ],
   "source": [
    "print(grid_search.best_params_)\n",
    "print(grid_search.best_score_)"
   ]
  },
  {
   "cell_type": "markdown",
   "metadata": {},
   "source": [
    "# References / Appendixes"
   ]
  },
  {
   "cell_type": "markdown",
   "metadata": {},
   "source": [
    "1. https://www.kaggle.com/c/titanic/data\n",
    "2. xx"
   ]
  }
 ],
 "metadata": {
  "kernelspec": {
   "display_name": "Python 3",
   "language": "python",
   "name": "python3"
  },
  "language_info": {
   "codemirror_mode": {
    "name": "ipython",
    "version": 3
   },
   "file_extension": ".py",
   "mimetype": "text/x-python",
   "name": "python",
   "nbconvert_exporter": "python",
   "pygments_lexer": "ipython3",
   "version": "3.8.5"
  }
 },
 "nbformat": 4,
 "nbformat_minor": 4
}
