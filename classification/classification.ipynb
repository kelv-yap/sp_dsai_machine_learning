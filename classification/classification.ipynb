{
 "cells": [
  {
   "cell_type": "markdown",
   "metadata": {},
   "source": [
    "# APPLIED MACHINE LEARNING ASSIGNMENT 1"
   ]
  },
  {
   "cell_type": "markdown",
   "metadata": {},
   "source": [
    "Lecturer's Name: Paul <br />\n",
    "Student Name: Yap Li Xen (Kelvin) <br />\n",
    "Student ID: P7414389 <br />\n",
    "Class: DSAI/2021"
   ]
  },
  {
   "cell_type": "markdown",
   "metadata": {},
   "source": [
    "# PART A: CLASSIFICATION"
   ]
  },
  {
   "cell_type": "markdown",
   "metadata": {},
   "source": [
    "Background\n",
    "==========\n",
    "The sinking of the RMS Titanic is one of the most infamous shipwrecks in history. On April 15, 1912, during her maiden voyage, the Titanic sank after colliding with an iceberg, killing 1502 out of 2224 passengers and crew. This sensational tragedy shocked the international community and led to better safety regulations for ships.\n",
    "\n",
    "\n",
    "One of the reasons that the shipwreck led to such loss of life was that there were not enough lifeboats for the passengers and crew. Although there was some element of luck involved in surviving the sinking, some groups of people were more likely to survive than others, such as women, children, and the upper-class.\n",
    "\n",
    "\n",
    "Complete the analysis of what sorts of people were likely to survive. In particular, we ask you to apply the tools of machine learning to predict which passengers survived the tragedy."
   ]
  },
  {
   "cell_type": "markdown",
   "metadata": {},
   "source": [
    "Steps\n",
    "=====\n",
    "* Exploratory Data Analysis\n",
    "* Data Preparation\n",
    "* Train & Score Model"
   ]
  },
  {
   "cell_type": "markdown",
   "metadata": {},
   "source": [
    "Exploratory Data Analysis\n",
    "======================\n",
    "A first view of the dataset to understand the data structure and data value."
   ]
  },
  {
   "cell_type": "code",
   "execution_count": 1564,
   "metadata": {},
   "outputs": [
    {
     "data": {
      "text/html": [
       "<div>\n",
       "<style scoped>\n",
       "    .dataframe tbody tr th:only-of-type {\n",
       "        vertical-align: middle;\n",
       "    }\n",
       "\n",
       "    .dataframe tbody tr th {\n",
       "        vertical-align: top;\n",
       "    }\n",
       "\n",
       "    .dataframe thead th {\n",
       "        text-align: right;\n",
       "    }\n",
       "</style>\n",
       "<table border=\"1\" class=\"dataframe\">\n",
       "  <thead>\n",
       "    <tr style=\"text-align: right;\">\n",
       "      <th></th>\n",
       "      <th>PassengerId</th>\n",
       "      <th>Survived</th>\n",
       "      <th>Pclass</th>\n",
       "      <th>Name</th>\n",
       "      <th>Sex</th>\n",
       "      <th>Age</th>\n",
       "      <th>SibSp</th>\n",
       "      <th>Parch</th>\n",
       "      <th>Ticket</th>\n",
       "      <th>Fare</th>\n",
       "      <th>Cabin</th>\n",
       "      <th>Embarked</th>\n",
       "    </tr>\n",
       "  </thead>\n",
       "  <tbody>\n",
       "    <tr>\n",
       "      <th>0</th>\n",
       "      <td>1</td>\n",
       "      <td>0</td>\n",
       "      <td>3</td>\n",
       "      <td>Braund, Mr. Owen Harris</td>\n",
       "      <td>male</td>\n",
       "      <td>22.0</td>\n",
       "      <td>1</td>\n",
       "      <td>0</td>\n",
       "      <td>A/5 21171</td>\n",
       "      <td>7.2500</td>\n",
       "      <td>NaN</td>\n",
       "      <td>S</td>\n",
       "    </tr>\n",
       "    <tr>\n",
       "      <th>1</th>\n",
       "      <td>2</td>\n",
       "      <td>1</td>\n",
       "      <td>1</td>\n",
       "      <td>Cumings, Mrs. John Bradley (Florence Briggs Th...</td>\n",
       "      <td>female</td>\n",
       "      <td>38.0</td>\n",
       "      <td>1</td>\n",
       "      <td>0</td>\n",
       "      <td>PC 17599</td>\n",
       "      <td>71.2833</td>\n",
       "      <td>C85</td>\n",
       "      <td>C</td>\n",
       "    </tr>\n",
       "    <tr>\n",
       "      <th>2</th>\n",
       "      <td>3</td>\n",
       "      <td>1</td>\n",
       "      <td>3</td>\n",
       "      <td>Heikkinen, Miss. Laina</td>\n",
       "      <td>female</td>\n",
       "      <td>26.0</td>\n",
       "      <td>0</td>\n",
       "      <td>0</td>\n",
       "      <td>STON/O2. 3101282</td>\n",
       "      <td>7.9250</td>\n",
       "      <td>NaN</td>\n",
       "      <td>S</td>\n",
       "    </tr>\n",
       "    <tr>\n",
       "      <th>3</th>\n",
       "      <td>4</td>\n",
       "      <td>1</td>\n",
       "      <td>1</td>\n",
       "      <td>Futrelle, Mrs. Jacques Heath (Lily May Peel)</td>\n",
       "      <td>female</td>\n",
       "      <td>35.0</td>\n",
       "      <td>1</td>\n",
       "      <td>0</td>\n",
       "      <td>113803</td>\n",
       "      <td>53.1000</td>\n",
       "      <td>C123</td>\n",
       "      <td>S</td>\n",
       "    </tr>\n",
       "    <tr>\n",
       "      <th>4</th>\n",
       "      <td>5</td>\n",
       "      <td>0</td>\n",
       "      <td>3</td>\n",
       "      <td>Allen, Mr. William Henry</td>\n",
       "      <td>male</td>\n",
       "      <td>35.0</td>\n",
       "      <td>0</td>\n",
       "      <td>0</td>\n",
       "      <td>373450</td>\n",
       "      <td>8.0500</td>\n",
       "      <td>NaN</td>\n",
       "      <td>S</td>\n",
       "    </tr>\n",
       "  </tbody>\n",
       "</table>\n",
       "</div>"
      ],
      "text/plain": [
       "   PassengerId  Survived  Pclass  \\\n",
       "0            1         0       3   \n",
       "1            2         1       1   \n",
       "2            3         1       3   \n",
       "3            4         1       1   \n",
       "4            5         0       3   \n",
       "\n",
       "                                                Name     Sex   Age  SibSp  \\\n",
       "0                            Braund, Mr. Owen Harris    male  22.0      1   \n",
       "1  Cumings, Mrs. John Bradley (Florence Briggs Th...  female  38.0      1   \n",
       "2                             Heikkinen, Miss. Laina  female  26.0      0   \n",
       "3       Futrelle, Mrs. Jacques Heath (Lily May Peel)  female  35.0      1   \n",
       "4                           Allen, Mr. William Henry    male  35.0      0   \n",
       "\n",
       "   Parch            Ticket     Fare Cabin Embarked  \n",
       "0      0         A/5 21171   7.2500   NaN        S  \n",
       "1      0          PC 17599  71.2833   C85        C  \n",
       "2      0  STON/O2. 3101282   7.9250   NaN        S  \n",
       "3      0            113803  53.1000  C123        S  \n",
       "4      0            373450   8.0500   NaN        S  "
      ]
     },
     "execution_count": 1564,
     "metadata": {},
     "output_type": "execute_result"
    }
   ],
   "source": [
    "import pandas as pd\n",
    "import numpy as np\n",
    "\n",
    "df = pd.read_csv('data/train.csv', sep=',')\n",
    "df.head()"
   ]
  },
  {
   "cell_type": "markdown",
   "metadata": {},
   "source": [
    "![](data/data_description.png)"
   ]
  },
  {
   "cell_type": "code",
   "execution_count": 1565,
   "metadata": {},
   "outputs": [
    {
     "name": "stdout",
     "output_type": "stream",
     "text": [
      "<class 'pandas.core.frame.DataFrame'>\n",
      "RangeIndex: 891 entries, 0 to 890\n",
      "Data columns (total 12 columns):\n",
      " #   Column       Non-Null Count  Dtype  \n",
      "---  ------       --------------  -----  \n",
      " 0   PassengerId  891 non-null    int64  \n",
      " 1   Survived     891 non-null    int64  \n",
      " 2   Pclass       891 non-null    int64  \n",
      " 3   Name         891 non-null    object \n",
      " 4   Sex          891 non-null    object \n",
      " 5   Age          714 non-null    float64\n",
      " 6   SibSp        891 non-null    int64  \n",
      " 7   Parch        891 non-null    int64  \n",
      " 8   Ticket       891 non-null    object \n",
      " 9   Fare         891 non-null    float64\n",
      " 10  Cabin        204 non-null    object \n",
      " 11  Embarked     889 non-null    object \n",
      "dtypes: float64(2), int64(5), object(5)\n",
      "memory usage: 83.7+ KB\n"
     ]
    }
   ],
   "source": [
    "df.info()"
   ]
  },
  {
   "cell_type": "code",
   "execution_count": 1566,
   "metadata": {},
   "outputs": [
    {
     "data": {
      "text/html": [
       "<div>\n",
       "<style scoped>\n",
       "    .dataframe tbody tr th:only-of-type {\n",
       "        vertical-align: middle;\n",
       "    }\n",
       "\n",
       "    .dataframe tbody tr th {\n",
       "        vertical-align: top;\n",
       "    }\n",
       "\n",
       "    .dataframe thead th {\n",
       "        text-align: right;\n",
       "    }\n",
       "</style>\n",
       "<table border=\"1\" class=\"dataframe\">\n",
       "  <thead>\n",
       "    <tr style=\"text-align: right;\">\n",
       "      <th></th>\n",
       "      <th>PassengerId</th>\n",
       "      <th>Survived</th>\n",
       "      <th>Pclass</th>\n",
       "      <th>Age</th>\n",
       "      <th>SibSp</th>\n",
       "      <th>Parch</th>\n",
       "      <th>Fare</th>\n",
       "    </tr>\n",
       "  </thead>\n",
       "  <tbody>\n",
       "    <tr>\n",
       "      <th>count</th>\n",
       "      <td>891.000000</td>\n",
       "      <td>891.000000</td>\n",
       "      <td>891.000000</td>\n",
       "      <td>714.000000</td>\n",
       "      <td>891.000000</td>\n",
       "      <td>891.000000</td>\n",
       "      <td>891.000000</td>\n",
       "    </tr>\n",
       "    <tr>\n",
       "      <th>mean</th>\n",
       "      <td>446.000000</td>\n",
       "      <td>0.383838</td>\n",
       "      <td>2.308642</td>\n",
       "      <td>29.699118</td>\n",
       "      <td>0.523008</td>\n",
       "      <td>0.381594</td>\n",
       "      <td>32.204208</td>\n",
       "    </tr>\n",
       "    <tr>\n",
       "      <th>std</th>\n",
       "      <td>257.353842</td>\n",
       "      <td>0.486592</td>\n",
       "      <td>0.836071</td>\n",
       "      <td>14.526497</td>\n",
       "      <td>1.102743</td>\n",
       "      <td>0.806057</td>\n",
       "      <td>49.693429</td>\n",
       "    </tr>\n",
       "    <tr>\n",
       "      <th>min</th>\n",
       "      <td>1.000000</td>\n",
       "      <td>0.000000</td>\n",
       "      <td>1.000000</td>\n",
       "      <td>0.420000</td>\n",
       "      <td>0.000000</td>\n",
       "      <td>0.000000</td>\n",
       "      <td>0.000000</td>\n",
       "    </tr>\n",
       "    <tr>\n",
       "      <th>25%</th>\n",
       "      <td>223.500000</td>\n",
       "      <td>0.000000</td>\n",
       "      <td>2.000000</td>\n",
       "      <td>20.125000</td>\n",
       "      <td>0.000000</td>\n",
       "      <td>0.000000</td>\n",
       "      <td>7.910400</td>\n",
       "    </tr>\n",
       "    <tr>\n",
       "      <th>50%</th>\n",
       "      <td>446.000000</td>\n",
       "      <td>0.000000</td>\n",
       "      <td>3.000000</td>\n",
       "      <td>28.000000</td>\n",
       "      <td>0.000000</td>\n",
       "      <td>0.000000</td>\n",
       "      <td>14.454200</td>\n",
       "    </tr>\n",
       "    <tr>\n",
       "      <th>75%</th>\n",
       "      <td>668.500000</td>\n",
       "      <td>1.000000</td>\n",
       "      <td>3.000000</td>\n",
       "      <td>38.000000</td>\n",
       "      <td>1.000000</td>\n",
       "      <td>0.000000</td>\n",
       "      <td>31.000000</td>\n",
       "    </tr>\n",
       "    <tr>\n",
       "      <th>max</th>\n",
       "      <td>891.000000</td>\n",
       "      <td>1.000000</td>\n",
       "      <td>3.000000</td>\n",
       "      <td>80.000000</td>\n",
       "      <td>8.000000</td>\n",
       "      <td>6.000000</td>\n",
       "      <td>512.329200</td>\n",
       "    </tr>\n",
       "  </tbody>\n",
       "</table>\n",
       "</div>"
      ],
      "text/plain": [
       "       PassengerId    Survived      Pclass         Age       SibSp  \\\n",
       "count   891.000000  891.000000  891.000000  714.000000  891.000000   \n",
       "mean    446.000000    0.383838    2.308642   29.699118    0.523008   \n",
       "std     257.353842    0.486592    0.836071   14.526497    1.102743   \n",
       "min       1.000000    0.000000    1.000000    0.420000    0.000000   \n",
       "25%     223.500000    0.000000    2.000000   20.125000    0.000000   \n",
       "50%     446.000000    0.000000    3.000000   28.000000    0.000000   \n",
       "75%     668.500000    1.000000    3.000000   38.000000    1.000000   \n",
       "max     891.000000    1.000000    3.000000   80.000000    8.000000   \n",
       "\n",
       "            Parch        Fare  \n",
       "count  891.000000  891.000000  \n",
       "mean     0.381594   32.204208  \n",
       "std      0.806057   49.693429  \n",
       "min      0.000000    0.000000  \n",
       "25%      0.000000    7.910400  \n",
       "50%      0.000000   14.454200  \n",
       "75%      0.000000   31.000000  \n",
       "max      6.000000  512.329200  "
      ]
     },
     "execution_count": 1566,
     "metadata": {},
     "output_type": "execute_result"
    }
   ],
   "source": [
    "df.describe()"
   ]
  },
  {
   "cell_type": "code",
   "execution_count": 1567,
   "metadata": {},
   "outputs": [],
   "source": [
    "from matplotlib import pyplot as plt\n",
    "import seaborn as sns\n",
    "\n",
    "# sns.pairplot(df, hue=\"Survived\", height=2)\n",
    "# plt.show()"
   ]
  },
  {
   "cell_type": "code",
   "execution_count": 1568,
   "metadata": {},
   "outputs": [],
   "source": [
    "# corr = df.corr()\n",
    "# sns.heatmap(corr, cmap=\"YlGnBu\",annot=True,\n",
    "#             xticklabels=corr.columns.values,\n",
    "#             yticklabels=corr.columns.values) \n",
    "# plt.show()"
   ]
  },
  {
   "cell_type": "markdown",
   "metadata": {},
   "source": [
    "Data Preparation\n",
    "==============\n",
    "* Data Cleaning\n",
    "* Data Transformation"
   ]
  },
  {
   "cell_type": "markdown",
   "metadata": {},
   "source": [
    "### 1. Feature Selection\n",
    "To remove features that doesn't bring impact or less important to the classification"
   ]
  },
  {
   "cell_type": "code",
   "execution_count": 1569,
   "metadata": {},
   "outputs": [
    {
     "data": {
      "text/plain": [
       "(891, 8)"
      ]
     },
     "execution_count": 1569,
     "metadata": {},
     "output_type": "execute_result"
    }
   ],
   "source": [
    "df = df.drop(['PassengerId', 'Name', 'Ticket', 'Cabin'], 1)\n",
    "df.shape"
   ]
  },
  {
   "cell_type": "markdown",
   "metadata": {},
   "source": [
    "### 2. SibSp & Parch\n",
    "To normalise the number of sibling/spouse/parents/children aboard the Titanic into single column **hasFamily** with the value 1 (yes) or 0 (no)"
   ]
  },
  {
   "cell_type": "code",
   "execution_count": 1570,
   "metadata": {},
   "outputs": [
    {
     "name": "stdout",
     "output_type": "stream",
     "text": [
      "   Survived  Pclass     Sex   Age     Fare Embarked  hasFamily\n",
      "0         0       3    male  22.0   7.2500        S          1\n",
      "1         1       1  female  38.0  71.2833        C          1\n",
      "2         1       3  female  26.0   7.9250        S          0\n",
      "3         1       1  female  35.0  53.1000        S          1\n",
      "4         0       3    male  35.0   8.0500        S          0\n"
     ]
    },
    {
     "data": {
      "text/plain": [
       "(891, 7)"
      ]
     },
     "execution_count": 1570,
     "metadata": {},
     "output_type": "execute_result"
    }
   ],
   "source": [
    "# SibSp & Parch (Regularization (Curse of Dimension)?)\n",
    "df['hasFamily'] = np.where((df['SibSp'] <= 0) & (df['Parch'] <= 0), 0, 1)\n",
    "df = df.drop(['SibSp', 'Parch'], 1)\n",
    "print(df.head())\n",
    "df.shape"
   ]
  },
  {
   "cell_type": "markdown",
   "metadata": {},
   "source": [
    "### 3. Fare\n",
    "To group Fare into multiple folds"
   ]
  },
  {
   "cell_type": "code",
   "execution_count": 1571,
   "metadata": {},
   "outputs": [
    {
     "name": "stdout",
     "output_type": "stream",
     "text": [
      "   Survived  Pclass     Sex   Age Embarked  hasFamily Fare_Group\n",
      "0         0       3    male  22.0        S          1          1\n",
      "1         1       1  female  38.0        C          1          5\n",
      "2         1       3  female  26.0        S          0          1\n",
      "3         1       1  female  35.0        S          1          4\n",
      "4         0       3    male  35.0        S          0          1\n"
     ]
    },
    {
     "data": {
      "text/plain": [
       "(891, 7)"
      ]
     },
     "execution_count": 1571,
     "metadata": {},
     "output_type": "execute_result"
    }
   ],
   "source": [
    "fare_bins=[0,10,20,40,60,80,100,200,600]\n",
    "fare_labels=[1,2,3,4,5,6,7,8]\n",
    "df['Fare_Group'] = pd.cut(df['Fare'], bins=fare_bins, labels=fare_labels, right=False)\n",
    "df = df.drop('Fare', 1)\n",
    "print(df.head())\n",
    "df.shape"
   ]
  },
  {
   "cell_type": "markdown",
   "metadata": {},
   "source": [
    "### 4. Age\n",
    "To normalise Age into 4 categories\n",
    "* Children (0-12)\n",
    "* Adult (13-59)\n",
    "* Elderly (60 and above)\n",
    "* Unknown (No Age Info)"
   ]
  },
  {
   "cell_type": "code",
   "execution_count": 1572,
   "metadata": {},
   "outputs": [
    {
     "name": "stdout",
     "output_type": "stream",
     "text": [
      "   Survived  Pclass     Sex Embarked  hasFamily Fare_Group Age_Group\n",
      "0         0       3    male        S          1          1     Adult\n",
      "1         1       1  female        C          1          5     Adult\n",
      "2         1       3  female        S          0          1     Adult\n",
      "3         1       1  female        S          1          4     Adult\n",
      "4         0       3    male        S          0          1     Adult\n"
     ]
    },
    {
     "data": {
      "text/plain": [
       "(891, 7)"
      ]
     },
     "execution_count": 1572,
     "metadata": {},
     "output_type": "execute_result"
    }
   ],
   "source": [
    "df['Age'] = df['Age'].fillna(-1)\n",
    "age_bins=[-1,0,13,60,120]\n",
    "age_labels=['Unknown','Children','Adult','Elderly']\n",
    "df['Age_Group'] = pd.cut(df['Age'], bins=age_bins, labels=age_labels, right=False)\n",
    "df = df.drop('Age', 1)\n",
    "print(df.head())\n",
    "df.shape"
   ]
  },
  {
   "cell_type": "markdown",
   "metadata": {},
   "source": [
    "### 5. Encoding\n",
    "* column Sex\n",
    "* column Embarked"
   ]
  },
  {
   "cell_type": "code",
   "execution_count": 1573,
   "metadata": {},
   "outputs": [
    {
     "name": "stdout",
     "output_type": "stream",
     "text": [
      "   Survived  Pclass  Sex  Embarked  hasFamily Fare_Group Age_Group\n",
      "0         0       3  0.0       0.0          1          1     Adult\n",
      "1         1       1  1.0       1.0          1          5     Adult\n",
      "2         1       3  1.0       0.0          0          1     Adult\n",
      "3         1       1  1.0       0.0          1          4     Adult\n",
      "4         0       3  0.0       0.0          0          1     Adult\n",
      "(889, 7)\n"
     ]
    }
   ],
   "source": [
    "from sklearn.preprocessing import OneHotEncoder\n",
    "\n",
    "ohe = OneHotEncoder()\n",
    "df = df[df['Embarked'].notna()]\n",
    "df['Embarked'] = ohe.fit_transform(df[\"Embarked\"].values.reshape(-1,1)).toarray()\n",
    "df['Sex'] = ohe.fit_transform(df[\"Sex\"].values.reshape(-1,1)).toarray()\n",
    "\n",
    "print(df.head())\n",
    "print(df.shape)"
   ]
  },
  {
   "cell_type": "code",
   "execution_count": 1574,
   "metadata": {},
   "outputs": [
    {
     "name": "stdout",
     "output_type": "stream",
     "text": [
      "   Survived  Pclass  Sex  Embarked  hasFamily  Fare_Group_1  Fare_Group_2  \\\n",
      "0         0       3  0.0       0.0          1             1             0   \n",
      "1         1       1  1.0       1.0          1             0             0   \n",
      "2         1       3  1.0       0.0          0             1             0   \n",
      "3         1       1  1.0       0.0          1             0             0   \n",
      "4         0       3  0.0       0.0          0             1             0   \n",
      "\n",
      "   Fare_Group_3  Fare_Group_4  Fare_Group_5  Fare_Group_6  Fare_Group_7  \\\n",
      "0             0             0             0             0             0   \n",
      "1             0             0             1             0             0   \n",
      "2             0             0             0             0             0   \n",
      "3             0             1             0             0             0   \n",
      "4             0             0             0             0             0   \n",
      "\n",
      "   Fare_Group_8  Age_Group_Unknown  Age_Group_Children  Age_Group_Adult  \\\n",
      "0             0                  0                   0                1   \n",
      "1             0                  0                   0                1   \n",
      "2             0                  0                   0                1   \n",
      "3             0                  0                   0                1   \n",
      "4             0                  0                   0                1   \n",
      "\n",
      "   Age_Group_Elderly  \n",
      "0                  0  \n",
      "1                  0  \n",
      "2                  0  \n",
      "3                  0  \n",
      "4                  0  \n"
     ]
    },
    {
     "data": {
      "text/plain": [
       "(889, 17)"
      ]
     },
     "execution_count": 1574,
     "metadata": {},
     "output_type": "execute_result"
    }
   ],
   "source": [
    "df = pd.get_dummies(df)\n",
    "print(df.head())\n",
    "df.shape"
   ]
  },
  {
   "cell_type": "code",
   "execution_count": 1575,
   "metadata": {},
   "outputs": [],
   "source": [
    "# # 6. Sex (Encoding)\n",
    "# df = pd.get_dummies(df)\n",
    "# df = df.drop('Sex_female', 1)\n",
    "# print(df.head())\n",
    "# df.shape"
   ]
  },
  {
   "cell_type": "code",
   "execution_count": 1576,
   "metadata": {},
   "outputs": [],
   "source": [
    "# # 5. Sex (Encoding)\n",
    "# from sklearn.preprocessing import OneHotEncoder\n",
    "\n",
    "# ohe = OneHotEncoder()\n",
    "# ohe.fit_transform(df[\"Sex\"].values.reshape(-1,1)).toarray()\n",
    "# print(df.shape)"
   ]
  },
  {
   "cell_type": "markdown",
   "metadata": {},
   "source": [
    "Train Model (Single Model)\n",
    "======================"
   ]
  },
  {
   "cell_type": "markdown",
   "metadata": {},
   "source": [
    "### Select Model\n",
    "Linear SVC is selected as training model following the cheatsheet in our use case\n",
    "\n",
    "![](data/sklearn_cheatsheet.png)"
   ]
  },
  {
   "cell_type": "markdown",
   "metadata": {},
   "source": [
    "### Train Test Split"
   ]
  },
  {
   "cell_type": "code",
   "execution_count": 1577,
   "metadata": {},
   "outputs": [
    {
     "name": "stdout",
     "output_type": "stream",
     "text": [
      "<class 'pandas.core.frame.DataFrame'>\n",
      "Int64Index: 889 entries, 0 to 890\n",
      "Data columns (total 17 columns):\n",
      " #   Column              Non-Null Count  Dtype  \n",
      "---  ------              --------------  -----  \n",
      " 0   Survived            889 non-null    int64  \n",
      " 1   Pclass              889 non-null    int64  \n",
      " 2   Sex                 889 non-null    float64\n",
      " 3   Embarked            889 non-null    float64\n",
      " 4   hasFamily           889 non-null    int32  \n",
      " 5   Fare_Group_1        889 non-null    uint8  \n",
      " 6   Fare_Group_2        889 non-null    uint8  \n",
      " 7   Fare_Group_3        889 non-null    uint8  \n",
      " 8   Fare_Group_4        889 non-null    uint8  \n",
      " 9   Fare_Group_5        889 non-null    uint8  \n",
      " 10  Fare_Group_6        889 non-null    uint8  \n",
      " 11  Fare_Group_7        889 non-null    uint8  \n",
      " 12  Fare_Group_8        889 non-null    uint8  \n",
      " 13  Age_Group_Unknown   889 non-null    uint8  \n",
      " 14  Age_Group_Children  889 non-null    uint8  \n",
      " 15  Age_Group_Adult     889 non-null    uint8  \n",
      " 16  Age_Group_Elderly   889 non-null    uint8  \n",
      "dtypes: float64(2), int32(1), int64(2), uint8(12)\n",
      "memory usage: 48.6 KB\n"
     ]
    }
   ],
   "source": [
    "from sklearn.model_selection import train_test_split\n",
    "\n",
    "df.info()\n",
    "X = df.drop('Survived', axis=1)\n",
    "y = df['Survived']\n",
    "\n",
    "X_train, X_test, y_train, y_test = train_test_split(X, y, test_size=0.2, random_state=42)"
   ]
  },
  {
   "cell_type": "markdown",
   "metadata": {},
   "source": [
    "### Train Model (LinearSVC)"
   ]
  },
  {
   "cell_type": "code",
   "execution_count": 1578,
   "metadata": {},
   "outputs": [
    {
     "data": {
      "text/plain": [
       "LinearSVC()"
      ]
     },
     "execution_count": 1578,
     "metadata": {},
     "output_type": "execute_result"
    }
   ],
   "source": [
    "from sklearn.svm import LinearSVC\n",
    "\n",
    "model = LinearSVC()\n",
    "model.fit(X_train, y_train)"
   ]
  },
  {
   "cell_type": "markdown",
   "metadata": {},
   "source": [
    "### Score Model"
   ]
  },
  {
   "cell_type": "code",
   "execution_count": 1579,
   "metadata": {},
   "outputs": [
    {
     "name": "stdout",
     "output_type": "stream",
     "text": [
      "Training Data Score: 80.17%\n",
      "Test Data Score: 76.97%\n"
     ]
    }
   ],
   "source": [
    "training_data_score = model.score(X_train, y_train)\n",
    "print(\"Training Data Score: {:.2f}%\".format(training_data_score*100))\n",
    "\n",
    "test_data_score = model.score(X_test, y_test)\n",
    "print(\"Test Data Score: {:.2f}%\".format(test_data_score*100))"
   ]
  },
  {
   "cell_type": "markdown",
   "metadata": {},
   "source": [
    "Evaluate Model\n",
    "============="
   ]
  },
  {
   "cell_type": "markdown",
   "metadata": {},
   "source": [
    "### 1. confusion_matrix"
   ]
  },
  {
   "cell_type": "code",
   "execution_count": 1580,
   "metadata": {},
   "outputs": [
    {
     "name": "stdout",
     "output_type": "stream",
     "text": [
      "[[84 25]\n",
      " [16 53]]\n"
     ]
    }
   ],
   "source": [
    "from sklearn.metrics import confusion_matrix\n",
    "\n",
    "y_predict = model.predict(X_test)\n",
    "cm = confusion_matrix(y_test, y_predict)\n",
    "print(cm)"
   ]
  },
  {
   "cell_type": "markdown",
   "metadata": {},
   "source": [
    "### 2. plot_confusion_matrix"
   ]
  },
  {
   "cell_type": "code",
   "execution_count": 1581,
   "metadata": {},
   "outputs": [
    {
     "data": {
      "image/png": "[encoded data removed]",
      "text/plain": [
       "<Figure size 432x288 with 2 Axes>"
      ]
     },
     "metadata": {
      "needs_background": "light"
     },
     "output_type": "display_data"
    }
   ],
   "source": [
    "from sklearn.metrics import plot_confusion_matrix\n",
    "\n",
    "plot_confusion_matrix(model, X_test, y_test)\n",
    "plt.title(model)\n",
    "plt.show()"
   ]
  },
  {
   "cell_type": "markdown",
   "metadata": {},
   "source": [
    "### 3. classification_report"
   ]
  },
  {
   "cell_type": "code",
   "execution_count": 1582,
   "metadata": {},
   "outputs": [
    {
     "name": "stdout",
     "output_type": "stream",
     "text": [
      "              precision    recall  f1-score   support\n",
      "\n",
      "           0       0.84      0.77      0.80       109\n",
      "           1       0.68      0.77      0.72        69\n",
      "\n",
      "    accuracy                           0.77       178\n",
      "   macro avg       0.76      0.77      0.76       178\n",
      "weighted avg       0.78      0.77      0.77       178\n",
      "\n"
     ]
    }
   ],
   "source": [
    "from sklearn.metrics import classification_report\n",
    "\n",
    "# model.fit(X_train, y_train)\n",
    "# y_predict = model.predict(X_test)\n",
    "print(classification_report(y_test, y_predict))"
   ]
  },
  {
   "cell_type": "markdown",
   "metadata": {},
   "source": [
    "# Train & Score Model"
   ]
  },
  {
   "cell_type": "code",
   "execution_count": 1583,
   "metadata": {},
   "outputs": [
    {
     "name": "stdout",
     "output_type": "stream",
     "text": [
      "                  Algorithm accuracy_score(train) accuracy_score(test)  \\\n",
      "0      LogisticRegression()                79.89%               75.84%   \n",
      "1    KNeighborsClassifier()                83.12%               79.78%   \n",
      "2              GaussianNB()                73.42%               73.60%   \n",
      "3  DecisionTreeClassifier()                86.64%               79.78%   \n",
      "4                     SVC()                82.56%               82.58%   \n",
      "5               LinearSVC()                80.17%               76.97%   \n",
      "\n",
      "  roc_auc_score(train) roc_auc_score(test)      Confusion Matrix  \n",
      "0                 0.78                0.76  [[82, 27], [16, 53]]  \n",
      "1                 0.81                0.78  [[92, 17], [19, 50]]  \n",
      "2                 0.70                0.71  [[91, 18], [29, 40]]  \n",
      "3                 0.85                0.79  [[90, 19], [17, 52]]  \n",
      "4                 0.80                0.82  [[92, 17], [14, 55]]  \n",
      "5                 0.78                0.77  [[84, 25], [16, 53]]  \n"
     ]
    }
   ],
   "source": [
    "# import 5 different models\n",
    "from sklearn.linear_model import LogisticRegression\n",
    "from sklearn.neighbors import KNeighborsClassifier\n",
    "from sklearn.naive_bayes import GaussianNB\n",
    "from sklearn.tree import DecisionTreeClassifier\n",
    "from sklearn.svm import SVC\n",
    "from sklearn.svm import LinearSVC\n",
    "\n",
    "# import different metrics\n",
    "from sklearn.metrics import accuracy_score\n",
    "from sklearn.metrics import roc_auc_score\n",
    "from sklearn.metrics import confusion_matrix\n",
    "\n",
    "# Assign 5 models into arrays\n",
    "models = [LogisticRegression(), \n",
    "          KNeighborsClassifier(), \n",
    "          GaussianNB(), \n",
    "          DecisionTreeClassifier(), \n",
    "          SVC(),\n",
    "          LinearSVC()]\n",
    "\n",
    "#Loop models and compile score into table\n",
    "rows = []\n",
    "for i in models:\n",
    "    # Fit Training Data to model selected\n",
    "    model = i\n",
    "    model.fit(X_train, y_train)\n",
    "    \n",
    "    # Predict Train Data\n",
    "    y_predict_train_data = model.predict(X_train)\n",
    "    x_train_accuracy_score = accuracy_score(y_train, y_predict_train_data)\n",
    "    x_train_auc_score = roc_auc_score(y_train, y_predict_train_data)\n",
    "\n",
    "    # Predict Test Data\n",
    "    y_predict_test_data = model.predict(X_test)\n",
    "    x_test_accuracy_score = accuracy_score(y_test, y_predict_test_data)\n",
    "    x_test_auc_score = roc_auc_score(y_test, y_predict_test_data)\n",
    "\n",
    "    # Calculate Confusion_Matrix\n",
    "    cm = confusion_matrix(y_test, y_predict_test_data)\n",
    "\n",
    "    rows.append([i, \n",
    "                 \"{:.2f}%\".format(x_train_accuracy_score*100), \n",
    "                 \"{:.2f}%\".format(x_test_accuracy_score*100), \n",
    "                 \"{:.2f}\".format(x_train_auc_score), \n",
    "                 \"{:.2f}\".format(x_test_auc_score), \n",
    "                 cm])\n",
    "\n",
    "# Display summary result\n",
    "summary_table = pd.DataFrame(rows, columns=[\"Algorithm\", \n",
    "                                            \"accuracy_score(train)\", \n",
    "                                            \"accuracy_score(test)\", \n",
    "                                            \"roc_auc_score(train)\", \n",
    "                                            \"roc_auc_score(test)\", \n",
    "                                            \"Confusion Matrix\"])\n",
    "print(summary_table)"
   ]
  },
  {
   "cell_type": "markdown",
   "metadata": {},
   "source": [
    "# Cross Validation & GridSearchCV"
   ]
  },
  {
   "cell_type": "markdown",
   "metadata": {},
   "source": [
    "## 1. Top Score - SVC()"
   ]
  },
  {
   "cell_type": "code",
   "execution_count": 1584,
   "metadata": {},
   "outputs": [],
   "source": [
    "# svm = SVC()\n",
    "# svm.fit(X_train, y_train)\n",
    "# svm.predict(X_train)\n",
    "# svm.score(X_train, y_train)"
   ]
  },
  {
   "cell_type": "code",
   "execution_count": 1585,
   "metadata": {},
   "outputs": [],
   "source": [
    "# svm.score(X_test, y_test)"
   ]
  },
  {
   "cell_type": "code",
   "execution_count": 1586,
   "metadata": {},
   "outputs": [
    {
     "name": "stdout",
     "output_type": "stream",
     "text": [
      "{'C': array([1.e-03, 1.e-02, 1.e-01, 1.e+00, 1.e+01, 1.e+02, 1.e+03])}\n"
     ]
    }
   ],
   "source": [
    "from sklearn.model_selection import GridSearchCV\n",
    "\n",
    "svm = SVC()\n",
    "param_grid = {'C': 10. ** np.arange(-3, 4)}\n",
    "print(param_grid)\n",
    "grid_search = GridSearchCV(svm, param_grid=param_grid, cv=3, verbose=3, return_train_score=True)"
   ]
  },
  {
   "cell_type": "code",
   "execution_count": 1587,
   "metadata": {},
   "outputs": [
    {
     "name": "stdout",
     "output_type": "stream",
     "text": [
      "Fitting 3 folds for each of 7 candidates, totalling 21 fits\n",
      "[CV] C=0.001 .........................................................\n",
      "[CV] ......... C=0.001, score=(train=0.620, test=0.616), total=   0.0s\n",
      "[CV] C=0.001 .........................................................\n",
      "[CV] ......... C=0.001, score=(train=0.618, test=0.620), total=   0.0s\n",
      "[CV] C=0.001 .........................................................\n",
      "[CV] ......... C=0.001, score=(train=0.618, test=0.620), total=   0.0s\n",
      "[CV] C=0.01 ..........................................................\n",
      "[CV] .......... C=0.01, score=(train=0.620, test=0.616), total=   0.0s\n",
      "[CV] C=0.01 ..........................................................\n",
      "[CV] .......... C=0.01, score=(train=0.618, test=0.620), total=   0.0s\n",
      "[CV] C=0.01 ..........................................................\n",
      "[CV] .......... C=0.01, score=(train=0.618, test=0.620), total=   0.0s\n",
      "[CV] C=0.1 ...........................................................\n",
      "[CV] ........... C=0.1, score=(train=0.808, test=0.768), total=   0.0s\n",
      "[CV] C=0.1 ...........................................................\n",
      "[CV] ........... C=0.1, score=(train=0.783, test=0.806), total=   0.0s\n",
      "[CV] C=0.1 ...........................................................\n"
     ]
    },
    {
     "name": "stderr",
     "output_type": "stream",
     "text": [
      "[Parallel(n_jobs=1)]: Using backend SequentialBackend with 1 concurrent workers.\n",
      "[Parallel(n_jobs=1)]: Done   1 out of   1 | elapsed:    0.0s remaining:    0.0s\n",
      "[Parallel(n_jobs=1)]: Done   2 out of   2 | elapsed:    0.0s remaining:    0.0s\n"
     ]
    },
    {
     "name": "stdout",
     "output_type": "stream",
     "text": [
      "[CV] ........... C=0.1, score=(train=0.793, test=0.755), total=   0.0s\n",
      "[CV] C=1.0 ...........................................................\n",
      "[CV] ........... C=1.0, score=(train=0.833, test=0.793), total=   0.0s\n",
      "[CV] C=1.0 ...........................................................\n",
      "[CV] ........... C=1.0, score=(train=0.808, test=0.789), total=   0.0s\n",
      "[CV] C=1.0 ...........................................................\n",
      "[CV] ........... C=1.0, score=(train=0.823, test=0.819), total=   0.0s\n",
      "[CV] C=10.0 ..........................................................\n",
      "[CV] .......... C=10.0, score=(train=0.859, test=0.802), total=   0.0s\n",
      "[CV] C=10.0 ..........................................................\n",
      "[CV] .......... C=10.0, score=(train=0.846, test=0.823), total=   0.0s\n",
      "[CV] C=10.0 ..........................................................\n",
      "[CV] .......... C=10.0, score=(train=0.857, test=0.793), total=   0.0s\n",
      "[CV] C=100.0 .........................................................\n",
      "[CV] ......... C=100.0, score=(train=0.876, test=0.814), total=   0.0s\n",
      "[CV] C=100.0 .........................................................\n",
      "[CV] ......... C=100.0, score=(train=0.861, test=0.827), total=   0.0s\n",
      "[CV] C=100.0 .........................................................\n",
      "[CV] ......... C=100.0, score=(train=0.876, test=0.793), total=   0.0s\n",
      "[CV] C=1000.0 ........................................................\n",
      "[CV] ........ C=1000.0, score=(train=0.878, test=0.814), total=   0.0s\n",
      "[CV] C=1000.0 ........................................................\n",
      "[CV] ........ C=1000.0, score=(train=0.865, test=0.819), total=   0.0s\n",
      "[CV] C=1000.0 ........................................................\n",
      "[CV] ........ C=1000.0, score=(train=0.878, test=0.806), total=   0.0s\n"
     ]
    },
    {
     "name": "stderr",
     "output_type": "stream",
     "text": [
      "[Parallel(n_jobs=1)]: Done  21 out of  21 | elapsed:    0.4s finished\n"
     ]
    }
   ],
   "source": [
    "grid_search.fit(X_train, y_train);"
   ]
  },
  {
   "cell_type": "code",
   "execution_count": 1588,
   "metadata": {},
   "outputs": [
    {
     "name": "stdout",
     "output_type": "stream",
     "text": [
      "{'C': 1000.0}\n",
      "0.8129395218002813\n"
     ]
    }
   ],
   "source": [
    "print(grid_search.best_params_)\n",
    "print(grid_search.best_score_)"
   ]
  },
  {
   "cell_type": "code",
   "execution_count": 1589,
   "metadata": {},
   "outputs": [
    {
     "data": {
      "image/png": "[encoded data removed]",
      "text/plain": [
       "<Figure size 864x432 with 1 Axes>"
      ]
     },
     "metadata": {
      "needs_background": "light"
     },
     "output_type": "display_data"
    }
   ],
   "source": [
    "plt.figure(figsize=(12, 6))\n",
    "validation_score = grid_search.cv_results_[\"mean_test_score\"]\n",
    "train_score = grid_search.cv_results_[\"mean_train_score\"]\n",
    "plt.plot(validation_score, label=\"validation\")\n",
    "plt.plot(train_score, label=\"training\")\n",
    "plt.xticks(np.arange(7), param_grid['C']); plt.xlabel(\"C\"); plt.ylabel(\"Accuracy\");plt.legend(loc='best');"
   ]
  },
  {
   "cell_type": "markdown",
   "metadata": {},
   "source": [
    "## 2. Top Score - KNeighborsClassifier()"
   ]
  },
  {
   "cell_type": "code",
   "execution_count": 1590,
   "metadata": {},
   "outputs": [],
   "source": [
    "# knn = KNeighborsClassifier()\n",
    "# knn.fit(X_train, y_train)\n",
    "# knn.predict(X_train)\n",
    "# knn.score(X_train, y_train)"
   ]
  },
  {
   "cell_type": "code",
   "execution_count": 1591,
   "metadata": {},
   "outputs": [],
   "source": [
    "# knn.score(X_test, y_test)"
   ]
  },
  {
   "cell_type": "code",
   "execution_count": 1592,
   "metadata": {},
   "outputs": [],
   "source": [
    "from sklearn.model_selection import GridSearchCV\n",
    "\n",
    "knn = KNeighborsClassifier()\n",
    "param_grid = {'n_neighbors': [1,2,3,4,5,6,7,8,9]}\n",
    "grid_search = GridSearchCV(knn, param_grid=param_grid, cv=5, verbose=3, return_train_score=True)"
   ]
  },
  {
   "cell_type": "code",
   "execution_count": 1593,
   "metadata": {},
   "outputs": [
    {
     "name": "stdout",
     "output_type": "stream",
     "text": [
      "Fitting 5 folds for each of 9 candidates, totalling 45 fits\n",
      "[CV] n_neighbors=1 ...................................................\n",
      "[CV] ... n_neighbors=1, score=(train=0.857, test=0.797), total=   0.0s\n",
      "[CV] n_neighbors=1 ...................................................\n",
      "[CV] ... n_neighbors=1, score=(train=0.814, test=0.775), total=   0.0s\n",
      "[CV] n_neighbors=1 ...................................................\n",
      "[CV] ... n_neighbors=1, score=(train=0.828, test=0.831), total=   0.0s\n",
      "[CV] n_neighbors=1 ...................................................\n",
      "[CV] ... n_neighbors=1, score=(train=0.845, test=0.775), total=   0.0s\n",
      "[CV] n_neighbors=1 ...................................................\n",
      "[CV] ... n_neighbors=1, score=(train=0.715, test=0.669), total=   0.0s\n",
      "[CV] n_neighbors=2 ...................................................\n"
     ]
    },
    {
     "name": "stderr",
     "output_type": "stream",
     "text": [
      "[Parallel(n_jobs=1)]: Using backend SequentialBackend with 1 concurrent workers.\n",
      "[Parallel(n_jobs=1)]: Done   1 out of   1 | elapsed:    0.0s remaining:    0.0s\n",
      "[Parallel(n_jobs=1)]: Done   2 out of   2 | elapsed:    0.0s remaining:    0.0s\n"
     ]
    },
    {
     "name": "stdout",
     "output_type": "stream",
     "text": [
      "[CV] ... n_neighbors=2, score=(train=0.859, test=0.790), total=   0.0s\n",
      "[CV] n_neighbors=2 ...................................................\n",
      "[CV] ... n_neighbors=2, score=(train=0.828, test=0.789), total=   0.0s\n",
      "[CV] n_neighbors=2 ...................................................\n",
      "[CV] ... n_neighbors=2, score=(train=0.822, test=0.810), total=   0.0s\n",
      "[CV] n_neighbors=2 ...................................................\n",
      "[CV] ... n_neighbors=2, score=(train=0.814, test=0.739), total=   0.0s\n",
      "[CV] n_neighbors=2 ...................................................\n",
      "[CV] ... n_neighbors=2, score=(train=0.815, test=0.746), total=   0.0s\n",
      "[CV] n_neighbors=3 ...................................................\n",
      "[CV] ... n_neighbors=3, score=(train=0.854, test=0.790), total=   0.0s\n",
      "[CV] n_neighbors=3 ...................................................\n",
      "[CV] ... n_neighbors=3, score=(train=0.817, test=0.796), total=   0.0s\n",
      "[CV] n_neighbors=3 ...................................................\n",
      "[CV] ... n_neighbors=3, score=(train=0.812, test=0.824), total=   0.0s\n",
      "[CV] n_neighbors=3 ...................................................\n",
      "[CV] ... n_neighbors=3, score=(train=0.845, test=0.768), total=   0.0s\n",
      "[CV] n_neighbors=3 ...................................................\n",
      "[CV] ... n_neighbors=3, score=(train=0.835, test=0.725), total=   0.0s\n",
      "[CV] n_neighbors=4 ...................................................\n",
      "[CV] ... n_neighbors=4, score=(train=0.838, test=0.783), total=   0.0s\n",
      "[CV] n_neighbors=4 ...................................................\n",
      "[CV] ... n_neighbors=4, score=(train=0.821, test=0.789), total=   0.0s\n",
      "[CV] n_neighbors=4 ...................................................\n",
      "[CV] ... n_neighbors=4, score=(train=0.817, test=0.852), total=   0.1s\n",
      "[CV] n_neighbors=4 ...................................................\n",
      "[CV] ... n_neighbors=4, score=(train=0.833, test=0.775), total=   0.0s\n",
      "[CV] n_neighbors=4 ...................................................\n",
      "[CV] ... n_neighbors=4, score=(train=0.833, test=0.746), total=   0.0s\n",
      "[CV] n_neighbors=5 ...................................................\n",
      "[CV] ... n_neighbors=5, score=(train=0.833, test=0.776), total=   0.0s\n",
      "[CV] n_neighbors=5 ...................................................\n",
      "[CV] ... n_neighbors=5, score=(train=0.817, test=0.768), total=   0.0s\n",
      "[CV] n_neighbors=5 ...................................................\n",
      "[CV] ... n_neighbors=5, score=(train=0.812, test=0.831), total=   0.0s\n",
      "[CV] n_neighbors=5 ...................................................\n",
      "[CV] ... n_neighbors=5, score=(train=0.849, test=0.789), total=   0.0s\n",
      "[CV] n_neighbors=5 ...................................................\n",
      "[CV] ... n_neighbors=5, score=(train=0.830, test=0.761), total=   0.0s\n",
      "[CV] n_neighbors=6 ...................................................\n",
      "[CV] ... n_neighbors=6, score=(train=0.835, test=0.783), total=   0.0s\n",
      "[CV] n_neighbors=6 ...................................................\n",
      "[CV] ... n_neighbors=6, score=(train=0.815, test=0.796), total=   0.0s\n",
      "[CV] n_neighbors=6 ...................................................\n",
      "[CV] ... n_neighbors=6, score=(train=0.808, test=0.845), total=   0.0s\n",
      "[CV] n_neighbors=6 ...................................................\n",
      "[CV] ... n_neighbors=6, score=(train=0.838, test=0.782), total=   0.0s\n",
      "[CV] n_neighbors=6 ...................................................\n",
      "[CV] ... n_neighbors=6, score=(train=0.833, test=0.761), total=   0.0s\n",
      "[CV] n_neighbors=7 ...................................................\n",
      "[CV] ... n_neighbors=7, score=(train=0.826, test=0.790), total=   0.0s\n",
      "[CV] n_neighbors=7 ...................................................\n",
      "[CV] ... n_neighbors=7, score=(train=0.814, test=0.775), total=   0.0s\n",
      "[CV] n_neighbors=7 ...................................................\n",
      "[CV] ... n_neighbors=7, score=(train=0.815, test=0.803), total=   0.0s\n",
      "[CV] n_neighbors=7 ...................................................\n",
      "[CV] ... n_neighbors=7, score=(train=0.824, test=0.789), total=   0.0s\n",
      "[CV] n_neighbors=7 ...................................................\n",
      "[CV] ... n_neighbors=7, score=(train=0.828, test=0.746), total=   0.0s\n",
      "[CV] n_neighbors=8 ...................................................\n",
      "[CV] ... n_neighbors=8, score=(train=0.820, test=0.783), total=   0.0s\n",
      "[CV] n_neighbors=8 ...................................................\n",
      "[CV] ... n_neighbors=8, score=(train=0.819, test=0.768), total=   0.0s\n",
      "[CV] n_neighbors=8 ...................................................\n",
      "[CV] ... n_neighbors=8, score=(train=0.817, test=0.845), total=   0.0s\n",
      "[CV] n_neighbors=8 ...................................................\n",
      "[CV] ... n_neighbors=8, score=(train=0.819, test=0.775), total=   0.0s\n",
      "[CV] n_neighbors=8 ...................................................\n",
      "[CV] ... n_neighbors=8, score=(train=0.821, test=0.775), total=   0.0s\n",
      "[CV] n_neighbors=9 ...................................................\n",
      "[CV] ... n_neighbors=9, score=(train=0.815, test=0.804), total=   0.0s\n",
      "[CV] n_neighbors=9 ...................................................\n",
      "[CV] ... n_neighbors=9, score=(train=0.822, test=0.782), total=   0.0s\n",
      "[CV] n_neighbors=9 ...................................................\n",
      "[CV] ... n_neighbors=9, score=(train=0.812, test=0.796), total=   0.0s\n",
      "[CV] n_neighbors=9 ...................................................\n",
      "[CV] ... n_neighbors=9, score=(train=0.822, test=0.789), total=   0.0s\n",
      "[CV] n_neighbors=9 ...................................................\n",
      "[CV] ... n_neighbors=9, score=(train=0.822, test=0.761), total=   0.0s\n"
     ]
    },
    {
     "name": "stderr",
     "output_type": "stream",
     "text": [
      "[Parallel(n_jobs=1)]: Done  45 out of  45 | elapsed:    2.2s finished\n"
     ]
    }
   ],
   "source": [
    "grid_search.fit(X_train, y_train);"
   ]
  },
  {
   "cell_type": "code",
   "execution_count": 1594,
   "metadata": {},
   "outputs": [
    {
     "name": "stdout",
     "output_type": "stream",
     "text": [
      "{'n_neighbors': 6}\n",
      "0.7932630749532158\n"
     ]
    }
   ],
   "source": [
    "print(grid_search.best_params_)\n",
    "print(grid_search.best_score_)"
   ]
  },
  {
   "cell_type": "code",
   "execution_count": 1595,
   "metadata": {},
   "outputs": [
    {
     "data": {
      "image/png": "[encoded data removed]",
      "text/plain": [
       "<Figure size 864x432 with 1 Axes>"
      ]
     },
     "metadata": {
      "needs_background": "light"
     },
     "output_type": "display_data"
    }
   ],
   "source": [
    "plt.figure(figsize=(12, 6))\n",
    "validation_score = grid_search.cv_results_[\"mean_test_score\"]\n",
    "train_score = grid_search.cv_results_[\"mean_train_score\"]\n",
    "plt.plot(validation_score, label=\"validation\")\n",
    "plt.plot(train_score, label=\"training\")\n",
    "plt.xticks(np.arange(9), param_grid['n_neighbors']); plt.xlabel(\"n_neighbors\"); plt.ylabel(\"Accuracy\");plt.legend(loc='best');"
   ]
  },
  {
   "cell_type": "code",
   "execution_count": 1596,
   "metadata": {},
   "outputs": [],
   "source": [
    "from sklearn.model_selection import GridSearchCV\n",
    "\n",
    "linreg = LogisticRegression()\n",
    "param_grid = {'penalty': ['none','l1','l2','elasticnet']}\n",
    "grid_search = GridSearchCV(linreg, param_grid=param_grid, cv=3, verbose=3, return_train_score=True)"
   ]
  },
  {
   "cell_type": "code",
   "execution_count": 1597,
   "metadata": {},
   "outputs": [
    {
     "name": "stdout",
     "output_type": "stream",
     "text": [
      "Fitting 3 folds for each of 4 candidates, totalling 12 fits\n",
      "[CV] penalty=none ....................................................\n",
      "[CV] .... penalty=none, score=(train=0.797, test=0.781), total=   0.0s\n",
      "[CV] penalty=none ....................................................\n",
      "[CV] .... penalty=none, score=(train=0.783, test=0.785), total=   0.0s\n",
      "[CV] penalty=none ....................................................\n",
      "[CV] .... penalty=none, score=(train=0.806, test=0.776), total=   0.0s\n",
      "[CV] penalty=l1 ......................................................\n",
      "[CV] .......... penalty=l1, score=(train=nan, test=nan), total=   0.0s\n",
      "[CV] penalty=l1 ......................................................\n",
      "[CV] .......... penalty=l1, score=(train=nan, test=nan), total=   0.0s\n",
      "[CV] penalty=l1 ......................................................\n",
      "[CV] .......... penalty=l1, score=(train=nan, test=nan), total=   0.0s\n",
      "[CV] penalty=l2 ......................................................\n",
      "[CV] ...... penalty=l2, score=(train=0.804, test=0.785), total=   0.0s\n",
      "[CV] penalty=l2 ......................................................\n",
      "[CV] ...... penalty=l2, score=(train=0.783, test=0.785), total=   0.0s\n",
      "[CV] penalty=l2 ......................................................\n",
      "[CV] ...... penalty=l2, score=(train=0.806, test=0.768), total=   0.0s\n",
      "[CV] penalty=elasticnet ..............................................\n",
      "[CV] .. penalty=elasticnet, score=(train=nan, test=nan), total=   0.0s\n",
      "[CV] penalty=elasticnet ..............................................\n",
      "[CV] .. penalty=elasticnet, score=(train=nan, test=nan), total=   0.0s\n",
      "[CV] penalty=elasticnet ..............................................\n",
      "[CV] .. penalty=elasticnet, score=(train=nan, test=nan), total=   0.0s\n"
     ]
    },
    {
     "name": "stderr",
     "output_type": "stream",
     "text": [
      "[Parallel(n_jobs=1)]: Using backend SequentialBackend with 1 concurrent workers.\n",
      "[Parallel(n_jobs=1)]: Done   1 out of   1 | elapsed:    0.0s remaining:    0.0s\n",
      "[Parallel(n_jobs=1)]: Done   2 out of   2 | elapsed:    0.0s remaining:    0.0s\n",
      "C:\\ProgramData\\Anaconda3\\lib\\site-packages\\sklearn\\model_selection\\_validation.py:548: FitFailedWarning: Estimator fit failed. The score on this train-test partition for these parameters will be set to nan. Details: \n",
      "Traceback (most recent call last):\n",
      "  File \"C:\\ProgramData\\Anaconda3\\lib\\site-packages\\sklearn\\model_selection\\_validation.py\", line 531, in _fit_and_score\n",
      "    estimator.fit(X_train, y_train, **fit_params)\n",
      "  File \"C:\\ProgramData\\Anaconda3\\lib\\site-packages\\sklearn\\linear_model\\_logistic.py\", line 1304, in fit\n",
      "    solver = _check_solver(self.solver, self.penalty, self.dual)\n",
      "  File \"C:\\ProgramData\\Anaconda3\\lib\\site-packages\\sklearn\\linear_model\\_logistic.py\", line 442, in _check_solver\n",
      "    raise ValueError(\"Solver %s supports only 'l2' or 'none' penalties, \"\n",
      "ValueError: Solver lbfgs supports only 'l2' or 'none' penalties, got l1 penalty.\n",
      "\n",
      "  warnings.warn(\"Estimator fit failed. The score on this train-test\"\n",
      "C:\\ProgramData\\Anaconda3\\lib\\site-packages\\sklearn\\model_selection\\_validation.py:548: FitFailedWarning: Estimator fit failed. The score on this train-test partition for these parameters will be set to nan. Details: \n",
      "Traceback (most recent call last):\n",
      "  File \"C:\\ProgramData\\Anaconda3\\lib\\site-packages\\sklearn\\model_selection\\_validation.py\", line 531, in _fit_and_score\n",
      "    estimator.fit(X_train, y_train, **fit_params)\n",
      "  File \"C:\\ProgramData\\Anaconda3\\lib\\site-packages\\sklearn\\linear_model\\_logistic.py\", line 1304, in fit\n",
      "    solver = _check_solver(self.solver, self.penalty, self.dual)\n",
      "  File \"C:\\ProgramData\\Anaconda3\\lib\\site-packages\\sklearn\\linear_model\\_logistic.py\", line 442, in _check_solver\n",
      "    raise ValueError(\"Solver %s supports only 'l2' or 'none' penalties, \"\n",
      "ValueError: Solver lbfgs supports only 'l2' or 'none' penalties, got elasticnet penalty.\n",
      "\n",
      "  warnings.warn(\"Estimator fit failed. The score on this train-test\"\n",
      "[Parallel(n_jobs=1)]: Done  12 out of  12 | elapsed:    0.1s finished\n"
     ]
    }
   ],
   "source": [
    "grid_search.fit(X_train, y_train);"
   ]
  },
  {
   "cell_type": "code",
   "execution_count": 1598,
   "metadata": {},
   "outputs": [
    {
     "name": "stdout",
     "output_type": "stream",
     "text": [
      "{'penalty': 'none'}\n",
      "0.7805907172995781\n"
     ]
    }
   ],
   "source": [
    "print(grid_search.best_params_)\n",
    "print(grid_search.best_score_)"
   ]
  },
  {
   "cell_type": "markdown",
   "metadata": {},
   "source": [
    "# References / Appendixes"
   ]
  },
  {
   "cell_type": "markdown",
   "metadata": {},
   "source": [
    "1. https://www.kaggle.com/c/titanic/data\n",
    "2. xx"
   ]
  }
 ],
 "metadata": {
  "kernelspec": {
   "display_name": "Python 3",
   "language": "python",
   "name": "python3"
  },
  "language_info": {
   "codemirror_mode": {
    "name": "ipython",
    "version": 3
   },
   "file_extension": ".py",
   "mimetype": "text/x-python",
   "name": "python",
   "nbconvert_exporter": "python",
   "pygments_lexer": "ipython3",
   "version": "3.8.5"
  }
 },
 "nbformat": 4,
 "nbformat_minor": 4
}
