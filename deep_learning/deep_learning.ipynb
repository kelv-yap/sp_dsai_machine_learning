{
 "cells": [
  {
   "cell_type": "markdown",
   "metadata": {},
   "source": [
    "# APPLIED MACHINE LEARNING ASSIGNMENT 2"
   ]
  },
  {
   "cell_type": "markdown",
   "metadata": {},
   "source": [
    "Lecturer's Name: Paul <br />\n",
    "Student Name: Yap Li Xen (Kelvin) <br />\n",
    "Student ID: P7414389 <br />\n",
    "Class: DSAI/2021"
   ]
  },
  {
   "cell_type": "markdown",
   "metadata": {},
   "source": [
    "# PART B: DEEP LEARNING"
   ]
  },
  {
   "cell_type": "markdown",
   "metadata": {},
   "source": [
    "### Contents\n",
    "1. Data Preparation <br />\n",
    "2. Image Classification with Keras (Basic Neural Network) <br />\n",
    "3. Image Classification with Keras (Convolutional Neural Network) <br />\n",
    "    i) Deep Learning Process (Simple CNN) <br />\n",
    "    ii) Deep Learning Process (CNN - Going Deeper) <br />"
   ]
  },
  {
   "cell_type": "markdown",
   "metadata": {},
   "source": [
    "Data Preparation\n",
    "=============="
   ]
  },
  {
   "cell_type": "markdown",
   "metadata": {},
   "source": [
    "### Understand Dataset\n",
    "Dataset from tf.keras.datasets.fashion_mnist.load_data()"
   ]
  },
  {
   "cell_type": "markdown",
   "metadata": {},
   "source": [
    "![](image\\classes.png)"
   ]
  },
  {
   "cell_type": "markdown",
   "metadata": {},
   "source": [
    "### Import Dataset\n",
    "Import dataset from Tensorflow Keras libraries (fashion_mnist) and split into Train dataset (X_train, y_train) and Test dataset (X_test, y_test)."
   ]
  },
  {
   "cell_type": "code",
   "execution_count": 1,
   "metadata": {},
   "outputs": [
    {
     "name": "stdout",
     "output_type": "stream",
     "text": [
      "(60000, 28, 28)\n",
      "(60000,)\n",
      "(10000, 28, 28)\n",
      "(10000,)\n"
     ]
    }
   ],
   "source": [
    "import tensorflow as tf\n",
    "from tensorflow.keras.datasets import fashion_mnist\n",
    "import matplotlib.pyplot as plt\n",
    "import numpy as np\n",
    "\n",
    "(X_train, y_train), (X_test, y_test) = fashion_mnist.load_data()\n",
    "\n",
    "print(X_train.shape)\n",
    "print(y_train.shape)\n",
    "print(X_test.shape)\n",
    "print(y_test.shape)"
   ]
  },
  {
   "cell_type": "markdown",
   "metadata": {},
   "source": [
    "Randomly select few images from the dataset (X_train) to have a view of the images"
   ]
  },
  {
   "cell_type": "code",
   "execution_count": 2,
   "metadata": {},
   "outputs": [
    {
     "data": {
      "image/png": "[encoded data removed]",
      "text/plain": [
       "<Figure size 432x288 with 4 Axes>"
      ]
     },
     "metadata": {
      "needs_background": "light"
     },
     "output_type": "display_data"
    }
   ],
   "source": [
    "for i in range(221, 225, 1):\n",
    "    plt.subplot(i)\n",
    "    plt.imshow(X_train[np.random.randint(0, 60000)])\n",
    "plt.show()"
   ]
  },
  {
   "cell_type": "markdown",
   "metadata": {},
   "source": [
    "Randomly select few images from the dataset (X_test) to have a view of the images"
   ]
  },
  {
   "cell_type": "code",
   "execution_count": 3,
   "metadata": {},
   "outputs": [
    {
     "data": {
      "image/png": "[encoded data removed]",
      "text/plain": [
       "<Figure size 432x288 with 4 Axes>"
      ]
     },
     "metadata": {
      "needs_background": "light"
     },
     "output_type": "display_data"
    }
   ],
   "source": [
    "for i in range(221, 225, 1):\n",
    "    plt.subplot(i)\n",
    "    plt.imshow(X_test[np.random.randint(0, 10000)])\n",
    "plt.show()"
   ]
  },
  {
   "cell_type": "markdown",
   "metadata": {},
   "source": [
    "Image Classification with Keras (Basic Neural Network)\n",
    "============================================="
   ]
  },
  {
   "cell_type": "markdown",
   "metadata": {},
   "source": [
    "### Data Import\n",
    "Import fresh data"
   ]
  },
  {
   "cell_type": "code",
   "execution_count": 4,
   "metadata": {},
   "outputs": [],
   "source": [
    "(X_train, y_train), (X_test, y_test) = fashion_mnist.load_data()"
   ]
  },
  {
   "cell_type": "markdown",
   "metadata": {},
   "source": [
    "### Data Reshaping\n",
    "The original image pixel is 28*28, reshaping (Flatten) data to 784 vector for each image"
   ]
  },
  {
   "cell_type": "code",
   "execution_count": 5,
   "metadata": {},
   "outputs": [
    {
     "name": "stdout",
     "output_type": "stream",
     "text": [
      "X_train Shape (Before): (60000, 28, 28)\n",
      "X_test Shape (Before): (10000, 28, 28)\n",
      "X_train Shape (After): (60000, 784)\n",
      "X_test Shape (After): (10000, 784)\n"
     ]
    }
   ],
   "source": [
    "print(\"X_train Shape (Before): {}\".format(X_train.shape))\n",
    "print(\"X_test Shape (Before): {}\".format(X_test.shape))\n",
    "\n",
    "num_pixels = X_train.shape[1] * X_train.shape[2]\n",
    "X_train = X_train.reshape(X_train.shape[0], num_pixels).astype('float32')\n",
    "X_test = X_test.reshape(X_test.shape[0], num_pixels).astype('float32')\n",
    "\n",
    "print(\"X_train Shape (After): {}\".format(X_train.shape))\n",
    "print(\"X_test Shape (After): {}\".format(X_test.shape))"
   ]
  },
  {
   "cell_type": "markdown",
   "metadata": {},
   "source": [
    "### Data Scaling\n",
    "Normalize inputs from 0-255 to 0-1"
   ]
  },
  {
   "cell_type": "code",
   "execution_count": 6,
   "metadata": {},
   "outputs": [],
   "source": [
    "X_train = X_train / 255\n",
    "X_test = X_test / 255"
   ]
  },
  {
   "cell_type": "markdown",
   "metadata": {},
   "source": [
    "### Data Encoding\n",
    "Execute One Hot Encoding"
   ]
  },
  {
   "cell_type": "code",
   "execution_count": 7,
   "metadata": {},
   "outputs": [
    {
     "name": "stdout",
     "output_type": "stream",
     "text": [
      "y_train Shape (Before): (60000,)\n",
      "y_test Shape (Before): (10000,)\n",
      "y_train Shape (After): (60000, 10)\n",
      "y_test Shape (After): (10000, 10)\n"
     ]
    }
   ],
   "source": [
    "from tensorflow.keras.utils import to_categorical\n",
    "\n",
    "print(\"y_train Shape (Before): {}\".format(y_train.shape))\n",
    "print(\"y_test Shape (Before): {}\".format(y_test.shape))\n",
    "\n",
    "y_train = to_categorical(y_train)\n",
    "y_test = to_categorical(y_test)\n",
    "\n",
    "print(\"y_train Shape (After): {}\".format(y_train.shape))\n",
    "print(\"y_test Shape (After): {}\".format(y_test.shape))"
   ]
  },
  {
   "cell_type": "markdown",
   "metadata": {},
   "source": [
    "### Deep Learning Process\n",
    "Train, Compile and Evaluate Model"
   ]
  },
  {
   "cell_type": "code",
   "execution_count": 8,
   "metadata": {},
   "outputs": [
    {
     "name": "stdout",
     "output_type": "stream",
     "text": [
      "Epoch 1/20\n",
      "480/480 - 3s - loss: 0.5128 - accuracy: 0.8182 - val_loss: 0.4442 - val_accuracy: 0.8418\n",
      "Epoch 2/20\n",
      "480/480 - 3s - loss: 0.3764 - accuracy: 0.8640 - val_loss: 0.3567 - val_accuracy: 0.8690\n",
      "Epoch 3/20\n",
      "480/480 - 3s - loss: 0.3341 - accuracy: 0.8788 - val_loss: 0.3391 - val_accuracy: 0.8758\n",
      "Epoch 4/20\n",
      "480/480 - 3s - loss: 0.3086 - accuracy: 0.8874 - val_loss: 0.3343 - val_accuracy: 0.8760\n",
      "Epoch 5/20\n",
      "480/480 - 3s - loss: 0.2864 - accuracy: 0.8946 - val_loss: 0.3291 - val_accuracy: 0.8798\n",
      "Epoch 6/20\n",
      "480/480 - 3s - loss: 0.2708 - accuracy: 0.9002 - val_loss: 0.3356 - val_accuracy: 0.8749\n",
      "Epoch 7/20\n",
      "480/480 - 3s - loss: 0.2597 - accuracy: 0.9039 - val_loss: 0.3058 - val_accuracy: 0.8882\n",
      "Epoch 8/20\n",
      "480/480 - 3s - loss: 0.2462 - accuracy: 0.9086 - val_loss: 0.3131 - val_accuracy: 0.8888\n",
      "Epoch 9/20\n",
      "480/480 - 3s - loss: 0.2350 - accuracy: 0.9119 - val_loss: 0.3022 - val_accuracy: 0.8915\n",
      "Epoch 10/20\n",
      "480/480 - 3s - loss: 0.2237 - accuracy: 0.9183 - val_loss: 0.3130 - val_accuracy: 0.8901\n",
      "Epoch 11/20\n",
      "480/480 - 3s - loss: 0.2162 - accuracy: 0.9201 - val_loss: 0.3094 - val_accuracy: 0.8893\n",
      "Epoch 12/20\n",
      "480/480 - 3s - loss: 0.2069 - accuracy: 0.9238 - val_loss: 0.3058 - val_accuracy: 0.8925\n",
      "Epoch 13/20\n",
      "480/480 - 3s - loss: 0.2007 - accuracy: 0.9252 - val_loss: 0.3020 - val_accuracy: 0.8938\n",
      "Epoch 14/20\n",
      "480/480 - 3s - loss: 0.1881 - accuracy: 0.9298 - val_loss: 0.3159 - val_accuracy: 0.8917\n",
      "Epoch 15/20\n",
      "480/480 - 3s - loss: 0.1858 - accuracy: 0.9315 - val_loss: 0.3235 - val_accuracy: 0.8897\n",
      "Epoch 16/20\n",
      "480/480 - 3s - loss: 0.1773 - accuracy: 0.9343 - val_loss: 0.3206 - val_accuracy: 0.8926\n",
      "Epoch 17/20\n",
      "480/480 - 3s - loss: 0.1711 - accuracy: 0.9362 - val_loss: 0.3194 - val_accuracy: 0.8958\n",
      "Epoch 18/20\n",
      "480/480 - 3s - loss: 0.1637 - accuracy: 0.9395 - val_loss: 0.3076 - val_accuracy: 0.8951\n",
      "Epoch 19/20\n",
      "480/480 - 3s - loss: 0.1609 - accuracy: 0.9405 - val_loss: 0.3127 - val_accuracy: 0.8957\n",
      "Epoch 20/20\n",
      "480/480 - 3s - loss: 0.1515 - accuracy: 0.9445 - val_loss: 0.3244 - val_accuracy: 0.8954\n",
      "Model: \"sequential\"\n",
      "_________________________________________________________________\n",
      "Layer (type)                 Output Shape              Param #   \n",
      "=================================================================\n",
      "dense (Dense)                (None, 784)               615440    \n",
      "_________________________________________________________________\n",
      "dense_1 (Dense)              (None, 10)                7850      \n",
      "=================================================================\n",
      "Total params: 623,290\n",
      "Trainable params: 623,290\n",
      "Non-trainable params: 0\n",
      "_________________________________________________________________\n",
      "None\n",
      "313/313 [==============================] - 1s 3ms/step - loss: 0.3521 - accuracy: 0.8886\n",
      "[0.352070689201355, 0.8885999917984009]\n",
      "Score (Accuracy): 88.86%\n",
      "Score (Error): 11.14%\n"
     ]
    }
   ],
   "source": [
    "from tensorflow.keras.models import Sequential\n",
    "from tensorflow.keras.layers import Dense\n",
    "\n",
    "model = Sequential()\n",
    "model.add(Dense(784, input_shape=(784,), activation='relu'))\n",
    "model.add(Dense(10, activation='softmax'))\n",
    "\n",
    "model.compile(optimizer='adam', \n",
    "              loss='categorical_crossentropy', \n",
    "              metrics=['accuracy'])\n",
    "\n",
    "training = model.fit(X_train, y_train, \n",
    "                     validation_split=0.2, \n",
    "                     batch_size=100, \n",
    "                     verbose=2, \n",
    "                     epochs=20)\n",
    "\n",
    "print(model.summary())\n",
    "\n",
    "score = model.evaluate(X_test, y_test)\n",
    "print(score)\n",
    "print(\"Score (Accuracy): {:.2f}%\".format(score[1]*100))\n",
    "print(\"Score (Error): {:.2f}%\".format(100-score[1]*100))"
   ]
  },
  {
   "cell_type": "markdown",
   "metadata": {},
   "source": [
    "### Learning Curve\n",
    "To track the machine learning performance and identify under-fitting/over-fitting (if any)"
   ]
  },
  {
   "cell_type": "code",
   "execution_count": 9,
   "metadata": {},
   "outputs": [
    {
     "data": {
      "image/png": "[encoded data removed]",
      "text/plain": [
       "<Figure size 432x288 with 1 Axes>"
      ]
     },
     "metadata": {
      "needs_background": "light"
     },
     "output_type": "display_data"
    }
   ],
   "source": [
    "history = training.history\n",
    "\n",
    "plt.plot(history['loss'], label=\"loss\")\n",
    "plt.plot(history['val_loss'], label=\"val_loss\")\n",
    "plt.plot(history['accuracy'], label=\"accuracy\")\n",
    "plt.plot(history['val_accuracy'], label=\"val_accuracy\")\n",
    "\n",
    "plt.legend(loc='best')\n",
    "plt.show()"
   ]
  },
  {
   "cell_type": "code",
   "execution_count": null,
   "metadata": {},
   "outputs": [],
   "source": []
  },
  {
   "cell_type": "code",
   "execution_count": null,
   "metadata": {},
   "outputs": [],
   "source": []
  },
  {
   "cell_type": "code",
   "execution_count": null,
   "metadata": {},
   "outputs": [],
   "source": []
  },
  {
   "cell_type": "code",
   "execution_count": null,
   "metadata": {},
   "outputs": [],
   "source": []
  },
  {
   "cell_type": "markdown",
   "metadata": {},
   "source": [
    "Image Classification with Keras (Convolutional Neural Network)\n",
    "===================================================="
   ]
  },
  {
   "cell_type": "markdown",
   "metadata": {},
   "source": [
    "### Data Import\n",
    "Import fresh data"
   ]
  },
  {
   "cell_type": "code",
   "execution_count": 10,
   "metadata": {},
   "outputs": [],
   "source": [
    "(X_train, y_train), (X_test, y_test) = fashion_mnist.load_data()"
   ]
  },
  {
   "cell_type": "markdown",
   "metadata": {},
   "source": [
    "### Data Reshaping\n",
    "This is to resolve different data shape (eg: channel first/last) issue."
   ]
  },
  {
   "cell_type": "code",
   "execution_count": 11,
   "metadata": {},
   "outputs": [
    {
     "name": "stdout",
     "output_type": "stream",
     "text": [
      "X_train Shape (Before): (60000, 28, 28)\n",
      "X_test Shape (Before): (10000, 28, 28)\n",
      "channels_last\n",
      "X_train Shape (After): (60000, 28, 28, 1)\n",
      "X_test Shape (After): (10000, 28, 28, 1)\n"
     ]
    }
   ],
   "source": [
    "from tensorflow.keras import backend as K\n",
    "\n",
    "print(\"X_train Shape (Before): {}\".format(X_train.shape))\n",
    "print(\"X_test Shape (Before): {}\".format(X_test.shape))\n",
    "\n",
    "if K.image_data_format() == 'channels_first':\n",
    "    print(\"channels_first\")\n",
    "    # reshape to be [samples][pixels][rows][columns]\n",
    "    X_train = X_train.reshape(X_train.shape[0], 1, 28, 28).astype('float32')\n",
    "    X_test = X_test.reshape(X_test.shape[0], 1, 28, 28).astype('float32')\n",
    "    inputShape = (1,28,28)\n",
    "else:\n",
    "    print('channels_last')\n",
    "    # reshape to be [samples][rows][columns][pixels]\n",
    "    X_train = X_train.reshape(X_train.shape[0], 28, 28, 1).astype('float32')\n",
    "    X_test = X_test.reshape(X_test.shape[0], 28, 28, 1).astype('float32')\n",
    "    inputShape = (28,28,1)\n",
    "\n",
    "print(\"X_train Shape (After): {}\".format(X_train.shape))\n",
    "print(\"X_test Shape (After): {}\".format(X_test.shape))"
   ]
  },
  {
   "cell_type": "markdown",
   "metadata": {},
   "source": [
    "### Data Scaling\n",
    "Normalize inputs from 0-255 to 0-1"
   ]
  },
  {
   "cell_type": "code",
   "execution_count": 12,
   "metadata": {},
   "outputs": [],
   "source": [
    "X_train = X_train / 255\n",
    "X_test = X_test / 255"
   ]
  },
  {
   "cell_type": "markdown",
   "metadata": {},
   "source": [
    "### Data Encoding\n",
    "Execute One Hot Encoding"
   ]
  },
  {
   "cell_type": "code",
   "execution_count": 13,
   "metadata": {},
   "outputs": [
    {
     "name": "stdout",
     "output_type": "stream",
     "text": [
      "y_train Shape (Before): (60000,)\n",
      "y_test Shape (Before): (10000,)\n",
      "y_train Shape (After): (60000, 10)\n",
      "y_test Shape (After): (10000, 10)\n"
     ]
    }
   ],
   "source": [
    "from tensorflow.keras.utils import to_categorical\n",
    "\n",
    "print(\"y_train Shape (Before): {}\".format(y_train.shape))\n",
    "print(\"y_test Shape (Before): {}\".format(y_test.shape))\n",
    "\n",
    "y_train = to_categorical(y_train)\n",
    "y_test = to_categorical(y_test)\n",
    "\n",
    "print(\"y_train Shape (After): {}\".format(y_train.shape))\n",
    "print(\"y_test Shape (After): {}\".format(y_test.shape))"
   ]
  },
  {
   "cell_type": "markdown",
   "metadata": {},
   "source": [
    "### Deep Learning Process (Simple CNN)\n",
    "Train, Compile and Evaluate Model\n",
    "1 layer of Conv2D"
   ]
  },
  {
   "cell_type": "code",
   "execution_count": 14,
   "metadata": {},
   "outputs": [
    {
     "name": "stdout",
     "output_type": "stream",
     "text": [
      "Epoch 1/10\n",
      "480/480 - 11s - loss: 0.4530 - accuracy: 0.8415 - val_loss: 0.3662 - val_accuracy: 0.8662\n",
      "Epoch 2/10\n",
      "480/480 - 12s - loss: 0.3064 - accuracy: 0.8910 - val_loss: 0.3061 - val_accuracy: 0.8913\n",
      "Epoch 3/10\n",
      "480/480 - 12s - loss: 0.2650 - accuracy: 0.9046 - val_loss: 0.3033 - val_accuracy: 0.8898\n",
      "Epoch 4/10\n",
      "480/480 - 11s - loss: 0.2388 - accuracy: 0.9145 - val_loss: 0.2887 - val_accuracy: 0.8971\n",
      "Epoch 5/10\n",
      "480/480 - 11s - loss: 0.2187 - accuracy: 0.9221 - val_loss: 0.2918 - val_accuracy: 0.8983\n",
      "Epoch 6/10\n",
      "480/480 - 12s - loss: 0.2018 - accuracy: 0.9276 - val_loss: 0.2909 - val_accuracy: 0.8986\n",
      "Epoch 7/10\n",
      "480/480 - 11s - loss: 0.1866 - accuracy: 0.9341 - val_loss: 0.2873 - val_accuracy: 0.9024\n",
      "Epoch 8/10\n",
      "480/480 - 11s - loss: 0.1745 - accuracy: 0.9377 - val_loss: 0.2943 - val_accuracy: 0.9008\n",
      "Epoch 9/10\n",
      "480/480 - 11s - loss: 0.1630 - accuracy: 0.9414 - val_loss: 0.2958 - val_accuracy: 0.9003\n",
      "Epoch 10/10\n",
      "480/480 - 11s - loss: 0.1540 - accuracy: 0.9445 - val_loss: 0.3040 - val_accuracy: 0.9015\n",
      "Model: \"sequential_1\"\n",
      "_________________________________________________________________\n",
      "Layer (type)                 Output Shape              Param #   \n",
      "=================================================================\n",
      "conv2d (Conv2D)              (None, 26, 26, 50)        500       \n",
      "_________________________________________________________________\n",
      "flatten (Flatten)            (None, 33800)             0         \n",
      "_________________________________________________________________\n",
      "dense_2 (Dense)              (None, 10)                338010    \n",
      "=================================================================\n",
      "Total params: 338,510\n",
      "Trainable params: 338,510\n",
      "Non-trainable params: 0\n",
      "_________________________________________________________________\n",
      "None\n",
      "313/313 [==============================] - 1s 4ms/step - loss: 0.3108 - accuracy: 0.8957\n",
      "[0.310840904712677, 0.8956999778747559]\n",
      "Score (Accuracy): 89.57%\n",
      "Score (Error): 10.43%\n"
     ]
    }
   ],
   "source": [
    "from tensorflow.keras.models import Sequential\n",
    "from tensorflow.keras.layers import Dense, Conv2D, MaxPool2D, Flatten, BatchNormalization\n",
    "\n",
    "model = Sequential()\n",
    "model.add(Conv2D(50, kernel_size=3, input_shape=inputShape, activation='relu'))\n",
    "model.add(Flatten())\n",
    "model.add(Dense(10, activation='softmax'))\n",
    "\n",
    "model.compile(optimizer='adam', \n",
    "              loss='categorical_crossentropy', \n",
    "              metrics=['accuracy'])\n",
    "\n",
    "training = model.fit(X_train, y_train, \n",
    "                     validation_split=0.2, \n",
    "                     batch_size=100, \n",
    "                     verbose=2, \n",
    "                     epochs=10)\n",
    "\n",
    "print(model.summary())\n",
    "\n",
    "score = model.evaluate(X_test, y_test)\n",
    "print(score)\n",
    "print(\"Score (Accuracy): {:.2f}%\".format(score[1]*100))\n",
    "print(\"Score (Error): {:.2f}%\".format(100-score[1]*100))"
   ]
  },
  {
   "cell_type": "markdown",
   "metadata": {},
   "source": [
    "### Learning Curve\n",
    "To track the machine learning performance and identify under-fitting/over-fitting (if any)"
   ]
  },
  {
   "cell_type": "code",
   "execution_count": 15,
   "metadata": {},
   "outputs": [
    {
     "data": {
      "image/png": "[encoded data removed]",
      "text/plain": [
       "<Figure size 432x288 with 1 Axes>"
      ]
     },
     "metadata": {
      "needs_background": "light"
     },
     "output_type": "display_data"
    }
   ],
   "source": [
    "history = training.history\n",
    "\n",
    "plt.plot(history['loss'], label=\"loss\")\n",
    "plt.plot(history['val_loss'], label=\"val_loss\")\n",
    "plt.plot(history['accuracy'], label=\"accuracy\")\n",
    "plt.plot(history['val_accuracy'], label=\"val_accuracy\")\n",
    "\n",
    "plt.legend(loc='best')\n",
    "plt.show()"
   ]
  },
  {
   "cell_type": "markdown",
   "metadata": {},
   "source": [
    "### Deep Learning Process (CNN - Going Deeper)\n",
    "Train, Compile and Evaluate Model"
   ]
  },
  {
   "cell_type": "code",
   "execution_count": 16,
   "metadata": {},
   "outputs": [
    {
     "name": "stdout",
     "output_type": "stream",
     "text": [
      "Epoch 1/10\n",
      "480/480 - 28s - loss: 0.4425 - accuracy: 0.8381 - val_loss: 0.4711 - val_accuracy: 0.8752\n",
      "Epoch 2/10\n",
      "480/480 - 28s - loss: 0.2947 - accuracy: 0.8926 - val_loss: 0.3084 - val_accuracy: 0.8825\n",
      "Epoch 3/10\n",
      "480/480 - 28s - loss: 0.2509 - accuracy: 0.9071 - val_loss: 0.2965 - val_accuracy: 0.8942\n",
      "Epoch 4/10\n",
      "480/480 - 27s - loss: 0.2246 - accuracy: 0.9166 - val_loss: 0.2771 - val_accuracy: 0.9014\n",
      "Epoch 5/10\n",
      "480/480 - 27s - loss: 0.2006 - accuracy: 0.9236 - val_loss: 0.2617 - val_accuracy: 0.9084\n",
      "Epoch 6/10\n",
      "480/480 - 28s - loss: 0.1801 - accuracy: 0.9317 - val_loss: 0.3221 - val_accuracy: 0.8888\n",
      "Epoch 7/10\n",
      "480/480 - 28s - loss: 0.1605 - accuracy: 0.9394 - val_loss: 0.2894 - val_accuracy: 0.8982\n",
      "Epoch 8/10\n",
      "480/480 - 28s - loss: 0.1438 - accuracy: 0.9450 - val_loss: 0.2635 - val_accuracy: 0.9106\n",
      "Epoch 9/10\n",
      "480/480 - 27s - loss: 0.1316 - accuracy: 0.9488 - val_loss: 0.2943 - val_accuracy: 0.9063\n",
      "Epoch 10/10\n",
      "480/480 - 29s - loss: 0.1210 - accuracy: 0.9535 - val_loss: 0.3853 - val_accuracy: 0.8888\n",
      "Model: \"sequential_2\"\n",
      "_________________________________________________________________\n",
      "Layer (type)                 Output Shape              Param #   \n",
      "=================================================================\n",
      "conv2d_1 (Conv2D)            (None, 26, 26, 50)        500       \n",
      "_________________________________________________________________\n",
      "max_pooling2d (MaxPooling2D) (None, 13, 13, 50)        0         \n",
      "_________________________________________________________________\n",
      "batch_normalization (BatchNo (None, 13, 13, 50)        200       \n",
      "_________________________________________________________________\n",
      "conv2d_2 (Conv2D)            (None, 11, 11, 25)        11275     \n",
      "_________________________________________________________________\n",
      "max_pooling2d_1 (MaxPooling2 (None, 5, 5, 25)          0         \n",
      "_________________________________________________________________\n",
      "flatten_1 (Flatten)          (None, 625)               0         \n",
      "_________________________________________________________________\n",
      "dense_3 (Dense)              (None, 256)               160256    \n",
      "_________________________________________________________________\n",
      "dense_4 (Dense)              (None, 128)               32896     \n",
      "_________________________________________________________________\n",
      "dense_5 (Dense)              (None, 10)                1290      \n",
      "=================================================================\n",
      "Total params: 206,417\n",
      "Trainable params: 206,317\n",
      "Non-trainable params: 100\n",
      "_________________________________________________________________\n",
      "None\n",
      "313/313 [==============================] - 2s 7ms/step - loss: 0.4081 - accuracy: 0.8808\n",
      "[0.4080716669559479, 0.8808000087738037]\n",
      "Score (Accuracy): 88.08%\n",
      "Score (Error): 11.92%\n"
     ]
    }
   ],
   "source": [
    "from tensorflow.keras.models import Sequential\n",
    "from tensorflow.keras.layers import Dense, Conv2D, MaxPool2D, Flatten, BatchNormalization\n",
    "\n",
    "model = Sequential()\n",
    "\n",
    "model.add(Conv2D(50, kernel_size=3, input_shape=inputShape, activation='relu'))\n",
    "model.add(MaxPool2D(2))\n",
    "model.add(BatchNormalization())\n",
    "model.add(Conv2D(25, kernel_size=3, input_shape=inputShape, activation='relu'))\n",
    "model.add(MaxPool2D(2))\n",
    "model.add(Flatten())\n",
    "model.add(Dense(256, activation='relu'))\n",
    "model.add(Dense(128, activation='relu'))\n",
    "model.add(Dense(10, activation='softmax'))\n",
    "model.compile(optimizer='adam', loss='categorical_crossentropy', metrics=['accuracy'])\n",
    "\n",
    "training = model.fit(X_train, y_train, \n",
    "                     validation_split=0.2, \n",
    "                     batch_size=100, \n",
    "                     verbose=2, \n",
    "                     epochs=10)\n",
    "\n",
    "print(model.summary())\n",
    "\n",
    "score = model.evaluate(X_test, y_test)\n",
    "print(score)\n",
    "print(\"Score (Accuracy): {:.2f}%\".format(score[1]*100))\n",
    "print(\"Score (Error): {:.2f}%\".format(100-score[1]*100))"
   ]
  },
  {
   "cell_type": "markdown",
   "metadata": {},
   "source": [
    "### Learning Curve\n",
    "To track the machine learning performance and identify under-fitting/over-fitting (if any)"
   ]
  },
  {
   "cell_type": "code",
   "execution_count": 17,
   "metadata": {},
   "outputs": [
    {
     "data": {
      "image/png": "[encoded data removed]",
      "text/plain": [
       "<Figure size 432x288 with 1 Axes>"
      ]
     },
     "metadata": {
      "needs_background": "light"
     },
     "output_type": "display_data"
    }
   ],
   "source": [
    "history = training.history\n",
    "\n",
    "plt.plot(history['loss'], label=\"loss\")\n",
    "plt.plot(history['val_loss'], label=\"val_loss\")\n",
    "plt.plot(history['accuracy'], label=\"accuracy\")\n",
    "plt.plot(history['val_accuracy'], label=\"val_accuracy\")\n",
    "\n",
    "plt.legend(loc='best')\n",
    "plt.show()"
   ]
  }
 ],
 "metadata": {
  "kernelspec": {
   "display_name": "Python 3",
   "language": "python",
   "name": "python3"
  },
  "language_info": {
   "codemirror_mode": {
    "name": "ipython",
    "version": 3
   },
   "file_extension": ".py",
   "mimetype": "text/x-python",
   "name": "python",
   "nbconvert_exporter": "python",
   "pygments_lexer": "ipython3",
   "version": "3.8.5"
  }
 },
 "nbformat": 4,
 "nbformat_minor": 4
}
